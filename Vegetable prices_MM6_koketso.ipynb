{
 "cells": [
  {
   "cell_type": "markdown",
   "id": "7f3e949b-fcfb-45f0-8058-966d72b785ec",
   "metadata": {},
   "source": [
    "# Project Overview: Analyzing Vegetable Price Trends\n",
    "<p style=\"text-align:center;\"><img src=\"https://media.citizen.co.za/wp-content/uploads/2023/12/household-food-basket-prices.jpg\" width=700 height=700></p>"
   ]
  },
  {
   "cell_type": "markdown",
   "id": "0ef2e935-002e-47dc-b81a-020ed4ca3b0c",
   "metadata": {},
   "source": [
    "## Introduction\n",
    "Understanding the dynamics of vegetable prices is essential for both policymakers and consumers in India, given the significant impact it has on food security and economic well-being. This project focuses on exploring and analyzing a dataset that provides detailed information on vegetable prices across various regions of India. Collected from the authoritative source, the Agricultural Marketing Information Network (AGMARKNET), this dataset offers valuable insights into the fluctuating prices of 10 different types of vegetables over the course of a year."
   ]
  },
  {
   "cell_type": "markdown",
   "id": "bca0be01-79fb-4d6b-93c6-39f71d4a8032",
   "metadata": {},
   "source": [
    "### Dataset Description:\n",
    "The dataset comprises information on the prices of 10 commonly consumed vegetables in India over a span of one year. Each entry in the dataset includes the type of vegetable, the price at which it was sold, and the corresponding timestamp indicating the date of sale. With data collected from diverse regions across India, the dataset facilitates an in-depth analysis of regional variations and seasonal trends in vegetable prices."
   ]
  },
  {
   "cell_type": "markdown",
   "id": "32047f41-24b0-4ad2-a22e-3e412ec48b09",
   "metadata": {},
   "source": [
    "## Importing Packages"
   ]
  },
  {
   "cell_type": "code",
   "execution_count": 1,
   "id": "a166a845-c11f-4115-84ef-69789cb0f79b",
   "metadata": {},
   "outputs": [],
   "source": [
    "%matplotlib inline\n",
    "\n",
    "import pandas as pd\n",
    "import numpy as np\n",
    "import matplotlib.pyplot as plt\n",
    "import seaborn as sns"
   ]
  },
  {
   "cell_type": "markdown",
   "id": "e30c0d4a-88e2-41db-9faa-7a079126a4dc",
   "metadata": {},
   "source": [
    "## Data Loading and Data Cleaning\n",
    "\n",
    "Load the data, \n",
    "check, and change data to the correct Data types. \n",
    "For Example, The price date was an Object. This would impact our EDA section should we decide to visualize the date or make use of a trend Line"
   ]
  },
  {
   "cell_type": "code",
   "execution_count": 2,
   "id": "0a7718ab-c433-4e4e-867d-cc8d17af43ab",
   "metadata": {},
   "outputs": [
    {
     "name": "stderr",
     "output_type": "stream",
     "text": [
      "'kaggle' is not recognized as an internal or external command,\n",
      "operable program or batch file.\n"
     ]
    }
   ],
   "source": [
    "!kaggle datasets download -d ksamiksha19/vegetable-prices"
   ]
  },
  {
   "cell_type": "code",
   "execution_count": 3,
   "id": "91f5f8c4-de36-4226-a125-056904ba7bb4",
   "metadata": {},
   "outputs": [
    {
     "data": {
      "text/html": [
       "<div>\n",
       "<style scoped>\n",
       "    .dataframe tbody tr th:only-of-type {\n",
       "        vertical-align: middle;\n",
       "    }\n",
       "\n",
       "    .dataframe tbody tr th {\n",
       "        vertical-align: top;\n",
       "    }\n",
       "\n",
       "    .dataframe thead th {\n",
       "        text-align: right;\n",
       "    }\n",
       "</style>\n",
       "<table border=\"1\" class=\"dataframe\">\n",
       "  <thead>\n",
       "    <tr style=\"text-align: right;\">\n",
       "      <th></th>\n",
       "      <th>Price Dates</th>\n",
       "      <th>Bhindi (Ladies finger)</th>\n",
       "      <th>Tomato</th>\n",
       "      <th>Onion</th>\n",
       "      <th>Potato</th>\n",
       "      <th>Brinjal</th>\n",
       "      <th>Garlic</th>\n",
       "      <th>Peas</th>\n",
       "      <th>Methi</th>\n",
       "      <th>Green Chilli</th>\n",
       "      <th>Elephant Yam (Suran)</th>\n",
       "    </tr>\n",
       "  </thead>\n",
       "  <tbody>\n",
       "    <tr>\n",
       "      <th>0</th>\n",
       "      <td>01-01-2023</td>\n",
       "      <td>35.0</td>\n",
       "      <td>18</td>\n",
       "      <td>22.0</td>\n",
       "      <td>20</td>\n",
       "      <td>30</td>\n",
       "      <td>50</td>\n",
       "      <td>25</td>\n",
       "      <td>8</td>\n",
       "      <td>45.0</td>\n",
       "      <td>25</td>\n",
       "    </tr>\n",
       "    <tr>\n",
       "      <th>1</th>\n",
       "      <td>02-01-2023</td>\n",
       "      <td>35.0</td>\n",
       "      <td>16</td>\n",
       "      <td>22.0</td>\n",
       "      <td>20</td>\n",
       "      <td>30</td>\n",
       "      <td>55</td>\n",
       "      <td>25</td>\n",
       "      <td>7</td>\n",
       "      <td>40.0</td>\n",
       "      <td>25</td>\n",
       "    </tr>\n",
       "    <tr>\n",
       "      <th>2</th>\n",
       "      <td>03-01-2023</td>\n",
       "      <td>35.0</td>\n",
       "      <td>16</td>\n",
       "      <td>21.0</td>\n",
       "      <td>20</td>\n",
       "      <td>30</td>\n",
       "      <td>55</td>\n",
       "      <td>25</td>\n",
       "      <td>7</td>\n",
       "      <td>40.0</td>\n",
       "      <td>25</td>\n",
       "    </tr>\n",
       "    <tr>\n",
       "      <th>3</th>\n",
       "      <td>04-01-2023</td>\n",
       "      <td>30.0</td>\n",
       "      <td>16</td>\n",
       "      <td>21.0</td>\n",
       "      <td>22</td>\n",
       "      <td>25</td>\n",
       "      <td>55</td>\n",
       "      <td>25</td>\n",
       "      <td>7</td>\n",
       "      <td>40.0</td>\n",
       "      <td>25</td>\n",
       "    </tr>\n",
       "    <tr>\n",
       "      <th>4</th>\n",
       "      <td>08-01-2023</td>\n",
       "      <td>35.0</td>\n",
       "      <td>16</td>\n",
       "      <td>20.0</td>\n",
       "      <td>21</td>\n",
       "      <td>25</td>\n",
       "      <td>55</td>\n",
       "      <td>22</td>\n",
       "      <td>6</td>\n",
       "      <td>35.0</td>\n",
       "      <td>25</td>\n",
       "    </tr>\n",
       "  </tbody>\n",
       "</table>\n",
       "</div>"
      ],
      "text/plain": [
       "  Price Dates  Bhindi (Ladies finger)  Tomato  Onion  Potato  Brinjal  Garlic  \\\n",
       "0  01-01-2023                    35.0      18   22.0      20       30      50   \n",
       "1  02-01-2023                    35.0      16   22.0      20       30      55   \n",
       "2  03-01-2023                    35.0      16   21.0      20       30      55   \n",
       "3  04-01-2023                    30.0      16   21.0      22       25      55   \n",
       "4  08-01-2023                    35.0      16   20.0      21       25      55   \n",
       "\n",
       "   Peas  Methi  Green Chilli  Elephant Yam (Suran)  \n",
       "0    25      8          45.0                    25  \n",
       "1    25      7          40.0                    25  \n",
       "2    25      7          40.0                    25  \n",
       "3    25      7          40.0                    25  \n",
       "4    22      6          35.0                    25  "
      ]
     },
     "execution_count": 3,
     "metadata": {},
     "output_type": "execute_result"
    }
   ],
   "source": [
    "df = pd.read_csv('prices.csv')\n",
    "df.head()"
   ]
  },
  {
   "cell_type": "code",
   "execution_count": 4,
   "id": "f4a7a160-73ab-4880-8256-8122cfdc24c6",
   "metadata": {},
   "outputs": [
    {
     "name": "stdout",
     "output_type": "stream",
     "text": [
      "<class 'pandas.core.frame.DataFrame'>\n",
      "RangeIndex: 287 entries, 0 to 286\n",
      "Data columns (total 11 columns):\n",
      " #   Column                  Non-Null Count  Dtype  \n",
      "---  ------                  --------------  -----  \n",
      " 0   Price Dates             287 non-null    object \n",
      " 1   Bhindi (Ladies finger)  287 non-null    float64\n",
      " 2   Tomato                  287 non-null    int64  \n",
      " 3   Onion                   287 non-null    float64\n",
      " 4   Potato                  287 non-null    int64  \n",
      " 5   Brinjal                 287 non-null    int64  \n",
      " 6   Garlic                  287 non-null    int64  \n",
      " 7   Peas                    287 non-null    int64  \n",
      " 8   Methi                   287 non-null    int64  \n",
      " 9   Green Chilli            287 non-null    float64\n",
      " 10  Elephant Yam (Suran)    287 non-null    int64  \n",
      "dtypes: float64(3), int64(7), object(1)\n",
      "memory usage: 24.8+ KB\n"
     ]
    }
   ],
   "source": [
    "df.info()"
   ]
  },
  {
   "cell_type": "code",
   "execution_count": 5,
   "id": "e4aa08e1-a028-4618-9add-9f61779d173c",
   "metadata": {},
   "outputs": [
    {
     "name": "stdout",
     "output_type": "stream",
     "text": [
      "datetime64[ns]\n"
     ]
    }
   ],
   "source": [
    "df['Price Dates'] =pd.to_datetime(df[\"Price Dates\"], format=  \"%d-%m-%Y\")\n",
    "print(df['Price Dates'].dtypes)"
   ]
  },
  {
   "cell_type": "code",
   "execution_count": 6,
   "id": "8d4bb7dc-958f-4f6b-a697-0647c26e2f1a",
   "metadata": {},
   "outputs": [
    {
     "data": {
      "text/plain": [
       "Price Dates               0\n",
       "Bhindi (Ladies finger)    0\n",
       "Tomato                    0\n",
       "Onion                     0\n",
       "Potato                    0\n",
       "Brinjal                   0\n",
       "Garlic                    0\n",
       "Peas                      0\n",
       "Methi                     0\n",
       "Green Chilli              0\n",
       "Elephant Yam (Suran)      0\n",
       "dtype: int64"
      ]
     },
     "execution_count": 6,
     "metadata": {},
     "output_type": "execute_result"
    }
   ],
   "source": [
    "df.isna().sum()"
   ]
  },
  {
   "cell_type": "markdown",
   "id": "794e2b9b-d599-4e04-8f12-f417152b2a6f",
   "metadata": {},
   "source": [
    "## Exploratory Data Analysis (EDA)"
   ]
  },
  {
   "cell_type": "code",
   "execution_count": 7,
   "id": "bfd80b21-fc18-40ce-b02d-e966ac80b12c",
   "metadata": {},
   "outputs": [
    {
     "data": {
      "text/html": [
       "<div>\n",
       "<style scoped>\n",
       "    .dataframe tbody tr th:only-of-type {\n",
       "        vertical-align: middle;\n",
       "    }\n",
       "\n",
       "    .dataframe tbody tr th {\n",
       "        vertical-align: top;\n",
       "    }\n",
       "\n",
       "    .dataframe thead th {\n",
       "        text-align: right;\n",
       "    }\n",
       "</style>\n",
       "<table border=\"1\" class=\"dataframe\">\n",
       "  <thead>\n",
       "    <tr style=\"text-align: right;\">\n",
       "      <th></th>\n",
       "      <th>Price Dates</th>\n",
       "      <th>Bhindi (Ladies finger)</th>\n",
       "      <th>Tomato</th>\n",
       "      <th>Onion</th>\n",
       "      <th>Potato</th>\n",
       "      <th>Brinjal</th>\n",
       "      <th>Garlic</th>\n",
       "      <th>Peas</th>\n",
       "      <th>Methi</th>\n",
       "      <th>Green Chilli</th>\n",
       "      <th>Elephant Yam (Suran)</th>\n",
       "    </tr>\n",
       "  </thead>\n",
       "  <tbody>\n",
       "    <tr>\n",
       "      <th>count</th>\n",
       "      <td>287</td>\n",
       "      <td>287.000000</td>\n",
       "      <td>287.000000</td>\n",
       "      <td>287.000000</td>\n",
       "      <td>287.000000</td>\n",
       "      <td>287.000000</td>\n",
       "      <td>287.000000</td>\n",
       "      <td>287.000000</td>\n",
       "      <td>287.000000</td>\n",
       "      <td>287.000000</td>\n",
       "      <td>287.000000</td>\n",
       "    </tr>\n",
       "    <tr>\n",
       "      <th>mean</th>\n",
       "      <td>2023-07-04 21:54:33.867595776</td>\n",
       "      <td>29.444251</td>\n",
       "      <td>16.006969</td>\n",
       "      <td>20.649826</td>\n",
       "      <td>18.585366</td>\n",
       "      <td>31.655052</td>\n",
       "      <td>133.101045</td>\n",
       "      <td>66.658537</td>\n",
       "      <td>20.383275</td>\n",
       "      <td>44.122404</td>\n",
       "      <td>28.797909</td>\n",
       "    </tr>\n",
       "    <tr>\n",
       "      <th>min</th>\n",
       "      <td>2023-01-01 00:00:00</td>\n",
       "      <td>17.000000</td>\n",
       "      <td>16.000000</td>\n",
       "      <td>8.000000</td>\n",
       "      <td>12.000000</td>\n",
       "      <td>14.000000</td>\n",
       "      <td>50.000000</td>\n",
       "      <td>22.000000</td>\n",
       "      <td>5.000000</td>\n",
       "      <td>0.130000</td>\n",
       "      <td>12.000000</td>\n",
       "    </tr>\n",
       "    <tr>\n",
       "      <th>25%</th>\n",
       "      <td>2023-04-06 12:00:00</td>\n",
       "      <td>22.000000</td>\n",
       "      <td>16.000000</td>\n",
       "      <td>12.000000</td>\n",
       "      <td>16.000000</td>\n",
       "      <td>25.000000</td>\n",
       "      <td>85.000000</td>\n",
       "      <td>40.000000</td>\n",
       "      <td>8.000000</td>\n",
       "      <td>35.000000</td>\n",
       "      <td>25.000000</td>\n",
       "    </tr>\n",
       "    <tr>\n",
       "      <th>50%</th>\n",
       "      <td>2023-07-04 00:00:00</td>\n",
       "      <td>27.500000</td>\n",
       "      <td>16.000000</td>\n",
       "      <td>16.000000</td>\n",
       "      <td>20.000000</td>\n",
       "      <td>30.000000</td>\n",
       "      <td>120.000000</td>\n",
       "      <td>60.000000</td>\n",
       "      <td>12.000000</td>\n",
       "      <td>40.000000</td>\n",
       "      <td>30.000000</td>\n",
       "    </tr>\n",
       "    <tr>\n",
       "      <th>75%</th>\n",
       "      <td>2023-10-01 12:00:00</td>\n",
       "      <td>33.000000</td>\n",
       "      <td>16.000000</td>\n",
       "      <td>25.000000</td>\n",
       "      <td>20.000000</td>\n",
       "      <td>35.000000</td>\n",
       "      <td>165.000000</td>\n",
       "      <td>80.000000</td>\n",
       "      <td>16.000000</td>\n",
       "      <td>50.000000</td>\n",
       "      <td>30.000000</td>\n",
       "    </tr>\n",
       "    <tr>\n",
       "      <th>max</th>\n",
       "      <td>2024-01-01 00:00:00</td>\n",
       "      <td>60.000000</td>\n",
       "      <td>18.000000</td>\n",
       "      <td>57.000000</td>\n",
       "      <td>24.000000</td>\n",
       "      <td>80.000000</td>\n",
       "      <td>290.000000</td>\n",
       "      <td>150.000000</td>\n",
       "      <td>2000.000000</td>\n",
       "      <td>90.000000</td>\n",
       "      <td>50.000000</td>\n",
       "    </tr>\n",
       "    <tr>\n",
       "      <th>std</th>\n",
       "      <td>NaN</td>\n",
       "      <td>8.124815</td>\n",
       "      <td>0.118056</td>\n",
       "      <td>11.711204</td>\n",
       "      <td>2.726238</td>\n",
       "      <td>11.725421</td>\n",
       "      <td>60.078331</td>\n",
       "      <td>33.302415</td>\n",
       "      <td>117.428417</td>\n",
       "      <td>12.796590</td>\n",
       "      <td>6.607973</td>\n",
       "    </tr>\n",
       "  </tbody>\n",
       "</table>\n",
       "</div>"
      ],
      "text/plain": [
       "                         Price Dates  Bhindi (Ladies finger)      Tomato  \\\n",
       "count                            287              287.000000  287.000000   \n",
       "mean   2023-07-04 21:54:33.867595776               29.444251   16.006969   \n",
       "min              2023-01-01 00:00:00               17.000000   16.000000   \n",
       "25%              2023-04-06 12:00:00               22.000000   16.000000   \n",
       "50%              2023-07-04 00:00:00               27.500000   16.000000   \n",
       "75%              2023-10-01 12:00:00               33.000000   16.000000   \n",
       "max              2024-01-01 00:00:00               60.000000   18.000000   \n",
       "std                              NaN                8.124815    0.118056   \n",
       "\n",
       "            Onion      Potato     Brinjal      Garlic        Peas  \\\n",
       "count  287.000000  287.000000  287.000000  287.000000  287.000000   \n",
       "mean    20.649826   18.585366   31.655052  133.101045   66.658537   \n",
       "min      8.000000   12.000000   14.000000   50.000000   22.000000   \n",
       "25%     12.000000   16.000000   25.000000   85.000000   40.000000   \n",
       "50%     16.000000   20.000000   30.000000  120.000000   60.000000   \n",
       "75%     25.000000   20.000000   35.000000  165.000000   80.000000   \n",
       "max     57.000000   24.000000   80.000000  290.000000  150.000000   \n",
       "std     11.711204    2.726238   11.725421   60.078331   33.302415   \n",
       "\n",
       "             Methi  Green Chilli  Elephant Yam (Suran)  \n",
       "count   287.000000    287.000000            287.000000  \n",
       "mean     20.383275     44.122404             28.797909  \n",
       "min       5.000000      0.130000             12.000000  \n",
       "25%       8.000000     35.000000             25.000000  \n",
       "50%      12.000000     40.000000             30.000000  \n",
       "75%      16.000000     50.000000             30.000000  \n",
       "max    2000.000000     90.000000             50.000000  \n",
       "std     117.428417     12.796590              6.607973  "
      ]
     },
     "execution_count": 7,
     "metadata": {},
     "output_type": "execute_result"
    }
   ],
   "source": [
    "df.describe()"
   ]
  },
  {
   "cell_type": "code",
   "execution_count": 8,
   "id": "b8b0d452-5744-46ab-ae67-b566a9d079ca",
   "metadata": {},
   "outputs": [
    {
     "data": {
      "text/html": [
       "<div>\n",
       "<style scoped>\n",
       "    .dataframe tbody tr th:only-of-type {\n",
       "        vertical-align: middle;\n",
       "    }\n",
       "\n",
       "    .dataframe tbody tr th {\n",
       "        vertical-align: top;\n",
       "    }\n",
       "\n",
       "    .dataframe thead th {\n",
       "        text-align: right;\n",
       "    }\n",
       "</style>\n",
       "<table border=\"1\" class=\"dataframe\">\n",
       "  <thead>\n",
       "    <tr style=\"text-align: right;\">\n",
       "      <th></th>\n",
       "      <th>Price Dates</th>\n",
       "      <th>Bhindi (Ladies finger)</th>\n",
       "      <th>Tomato</th>\n",
       "      <th>Onion</th>\n",
       "      <th>Potato</th>\n",
       "      <th>Brinjal</th>\n",
       "      <th>Garlic</th>\n",
       "      <th>Peas</th>\n",
       "      <th>Methi</th>\n",
       "      <th>Green Chilli</th>\n",
       "      <th>Elephant Yam (Suran)</th>\n",
       "      <th>month</th>\n",
       "    </tr>\n",
       "  </thead>\n",
       "  <tbody>\n",
       "    <tr>\n",
       "      <th>0</th>\n",
       "      <td>2023-01-01</td>\n",
       "      <td>35.0</td>\n",
       "      <td>18</td>\n",
       "      <td>22.0</td>\n",
       "      <td>20</td>\n",
       "      <td>30</td>\n",
       "      <td>50</td>\n",
       "      <td>25</td>\n",
       "      <td>8</td>\n",
       "      <td>45.0</td>\n",
       "      <td>25</td>\n",
       "      <td>1</td>\n",
       "    </tr>\n",
       "    <tr>\n",
       "      <th>1</th>\n",
       "      <td>2023-01-02</td>\n",
       "      <td>35.0</td>\n",
       "      <td>16</td>\n",
       "      <td>22.0</td>\n",
       "      <td>20</td>\n",
       "      <td>30</td>\n",
       "      <td>55</td>\n",
       "      <td>25</td>\n",
       "      <td>7</td>\n",
       "      <td>40.0</td>\n",
       "      <td>25</td>\n",
       "      <td>1</td>\n",
       "    </tr>\n",
       "    <tr>\n",
       "      <th>2</th>\n",
       "      <td>2023-01-03</td>\n",
       "      <td>35.0</td>\n",
       "      <td>16</td>\n",
       "      <td>21.0</td>\n",
       "      <td>20</td>\n",
       "      <td>30</td>\n",
       "      <td>55</td>\n",
       "      <td>25</td>\n",
       "      <td>7</td>\n",
       "      <td>40.0</td>\n",
       "      <td>25</td>\n",
       "      <td>1</td>\n",
       "    </tr>\n",
       "    <tr>\n",
       "      <th>3</th>\n",
       "      <td>2023-01-04</td>\n",
       "      <td>30.0</td>\n",
       "      <td>16</td>\n",
       "      <td>21.0</td>\n",
       "      <td>22</td>\n",
       "      <td>25</td>\n",
       "      <td>55</td>\n",
       "      <td>25</td>\n",
       "      <td>7</td>\n",
       "      <td>40.0</td>\n",
       "      <td>25</td>\n",
       "      <td>1</td>\n",
       "    </tr>\n",
       "    <tr>\n",
       "      <th>4</th>\n",
       "      <td>2023-01-08</td>\n",
       "      <td>35.0</td>\n",
       "      <td>16</td>\n",
       "      <td>20.0</td>\n",
       "      <td>21</td>\n",
       "      <td>25</td>\n",
       "      <td>55</td>\n",
       "      <td>22</td>\n",
       "      <td>6</td>\n",
       "      <td>35.0</td>\n",
       "      <td>25</td>\n",
       "      <td>1</td>\n",
       "    </tr>\n",
       "  </tbody>\n",
       "</table>\n",
       "</div>"
      ],
      "text/plain": [
       "  Price Dates  Bhindi (Ladies finger)  Tomato  Onion  Potato  Brinjal  Garlic  \\\n",
       "0  2023-01-01                    35.0      18   22.0      20       30      50   \n",
       "1  2023-01-02                    35.0      16   22.0      20       30      55   \n",
       "2  2023-01-03                    35.0      16   21.0      20       30      55   \n",
       "3  2023-01-04                    30.0      16   21.0      22       25      55   \n",
       "4  2023-01-08                    35.0      16   20.0      21       25      55   \n",
       "\n",
       "   Peas  Methi  Green Chilli  Elephant Yam (Suran)  month  \n",
       "0    25      8          45.0                    25      1  \n",
       "1    25      7          40.0                    25      1  \n",
       "2    25      7          40.0                    25      1  \n",
       "3    25      7          40.0                    25      1  \n",
       "4    22      6          35.0                    25      1  "
      ]
     },
     "execution_count": 8,
     "metadata": {},
     "output_type": "execute_result"
    }
   ],
   "source": [
    "df['month'] = df['Price Dates'].dt.month\n",
    "df.head()"
   ]
  },
  {
   "cell_type": "code",
   "execution_count": 22,
   "id": "f92d9cbd-2d56-47bd-a00d-af7fc420e0a7",
   "metadata": {},
   "outputs": [
    {
     "data": {
      "text/html": [
       "<div>\n",
       "<style scoped>\n",
       "    .dataframe tbody tr th:only-of-type {\n",
       "        vertical-align: middle;\n",
       "    }\n",
       "\n",
       "    .dataframe tbody tr th {\n",
       "        vertical-align: top;\n",
       "    }\n",
       "\n",
       "    .dataframe thead th {\n",
       "        text-align: right;\n",
       "    }\n",
       "</style>\n",
       "<table border=\"1\" class=\"dataframe\">\n",
       "  <thead>\n",
       "    <tr style=\"text-align: right;\">\n",
       "      <th></th>\n",
       "      <th>Tomato</th>\n",
       "      <th>Onion</th>\n",
       "      <th>Potato</th>\n",
       "      <th>Brinjal</th>\n",
       "      <th>Garlic</th>\n",
       "      <th>Peas</th>\n",
       "      <th>Methi</th>\n",
       "      <th>Green Chilli</th>\n",
       "      <th>Elephant Yam (Suran)</th>\n",
       "    </tr>\n",
       "    <tr>\n",
       "      <th>month</th>\n",
       "      <th></th>\n",
       "      <th></th>\n",
       "      <th></th>\n",
       "      <th></th>\n",
       "      <th></th>\n",
       "      <th></th>\n",
       "      <th></th>\n",
       "      <th></th>\n",
       "      <th></th>\n",
       "    </tr>\n",
       "  </thead>\n",
       "  <tbody>\n",
       "    <tr>\n",
       "      <th>1</th>\n",
       "      <td>290</td>\n",
       "      <td>313.5</td>\n",
       "      <td>367</td>\n",
       "      <td>710</td>\n",
       "      <td>1300</td>\n",
       "      <td>471</td>\n",
       "      <td>186</td>\n",
       "      <td>695.00</td>\n",
       "      <td>510</td>\n",
       "    </tr>\n",
       "    <tr>\n",
       "      <th>2</th>\n",
       "      <td>384</td>\n",
       "      <td>292.5</td>\n",
       "      <td>359</td>\n",
       "      <td>786</td>\n",
       "      <td>1770</td>\n",
       "      <td>745</td>\n",
       "      <td>195</td>\n",
       "      <td>962.00</td>\n",
       "      <td>660</td>\n",
       "    </tr>\n",
       "    <tr>\n",
       "      <th>3</th>\n",
       "      <td>416</td>\n",
       "      <td>296.0</td>\n",
       "      <td>354</td>\n",
       "      <td>576</td>\n",
       "      <td>2055</td>\n",
       "      <td>1000</td>\n",
       "      <td>187</td>\n",
       "      <td>1185.00</td>\n",
       "      <td>649</td>\n",
       "    </tr>\n",
       "    <tr>\n",
       "      <th>4</th>\n",
       "      <td>384</td>\n",
       "      <td>224.5</td>\n",
       "      <td>372</td>\n",
       "      <td>580</td>\n",
       "      <td>1975</td>\n",
       "      <td>1631</td>\n",
       "      <td>315</td>\n",
       "      <td>910.13</td>\n",
       "      <td>650</td>\n",
       "    </tr>\n",
       "    <tr>\n",
       "      <th>5</th>\n",
       "      <td>400</td>\n",
       "      <td>267.0</td>\n",
       "      <td>508</td>\n",
       "      <td>610</td>\n",
       "      <td>2305</td>\n",
       "      <td>1575</td>\n",
       "      <td>288</td>\n",
       "      <td>939.00</td>\n",
       "      <td>615</td>\n",
       "    </tr>\n",
       "    <tr>\n",
       "      <th>6</th>\n",
       "      <td>400</td>\n",
       "      <td>343.0</td>\n",
       "      <td>507</td>\n",
       "      <td>820</td>\n",
       "      <td>2450</td>\n",
       "      <td>1610</td>\n",
       "      <td>399</td>\n",
       "      <td>1380.00</td>\n",
       "      <td>619</td>\n",
       "    </tr>\n",
       "    <tr>\n",
       "      <th>7</th>\n",
       "      <td>400</td>\n",
       "      <td>414.0</td>\n",
       "      <td>493</td>\n",
       "      <td>855</td>\n",
       "      <td>3585</td>\n",
       "      <td>2640</td>\n",
       "      <td>2358</td>\n",
       "      <td>1825.00</td>\n",
       "      <td>767</td>\n",
       "    </tr>\n",
       "    <tr>\n",
       "      <th>8</th>\n",
       "      <td>400</td>\n",
       "      <td>537.0</td>\n",
       "      <td>505</td>\n",
       "      <td>775</td>\n",
       "      <td>3910</td>\n",
       "      <td>1930</td>\n",
       "      <td>225</td>\n",
       "      <td>1070.00</td>\n",
       "      <td>891</td>\n",
       "    </tr>\n",
       "    <tr>\n",
       "      <th>9</th>\n",
       "      <td>368</td>\n",
       "      <td>537.0</td>\n",
       "      <td>427</td>\n",
       "      <td>552</td>\n",
       "      <td>3720</td>\n",
       "      <td>1640</td>\n",
       "      <td>388</td>\n",
       "      <td>885.00</td>\n",
       "      <td>649</td>\n",
       "    </tr>\n",
       "    <tr>\n",
       "      <th>10</th>\n",
       "      <td>416</td>\n",
       "      <td>854.0</td>\n",
       "      <td>517</td>\n",
       "      <td>1060</td>\n",
       "      <td>4315</td>\n",
       "      <td>3220</td>\n",
       "      <td>692</td>\n",
       "      <td>1185.00</td>\n",
       "      <td>810</td>\n",
       "    </tr>\n",
       "    <tr>\n",
       "      <th>11</th>\n",
       "      <td>368</td>\n",
       "      <td>1029.0</td>\n",
       "      <td>458</td>\n",
       "      <td>561</td>\n",
       "      <td>4655</td>\n",
       "      <td>1799</td>\n",
       "      <td>270</td>\n",
       "      <td>817.00</td>\n",
       "      <td>750</td>\n",
       "    </tr>\n",
       "    <tr>\n",
       "      <th>12</th>\n",
       "      <td>368</td>\n",
       "      <td>819.0</td>\n",
       "      <td>467</td>\n",
       "      <td>1200</td>\n",
       "      <td>6160</td>\n",
       "      <td>870</td>\n",
       "      <td>347</td>\n",
       "      <td>810.00</td>\n",
       "      <td>695</td>\n",
       "    </tr>\n",
       "  </tbody>\n",
       "</table>\n",
       "</div>"
      ],
      "text/plain": [
       "       Tomato   Onion  Potato  Brinjal  Garlic  Peas  Methi  Green Chilli  \\\n",
       "month                                                                       \n",
       "1         290   313.5     367      710    1300   471    186        695.00   \n",
       "2         384   292.5     359      786    1770   745    195        962.00   \n",
       "3         416   296.0     354      576    2055  1000    187       1185.00   \n",
       "4         384   224.5     372      580    1975  1631    315        910.13   \n",
       "5         400   267.0     508      610    2305  1575    288        939.00   \n",
       "6         400   343.0     507      820    2450  1610    399       1380.00   \n",
       "7         400   414.0     493      855    3585  2640   2358       1825.00   \n",
       "8         400   537.0     505      775    3910  1930    225       1070.00   \n",
       "9         368   537.0     427      552    3720  1640    388        885.00   \n",
       "10        416   854.0     517     1060    4315  3220    692       1185.00   \n",
       "11        368  1029.0     458      561    4655  1799    270        817.00   \n",
       "12        368   819.0     467     1200    6160   870    347        810.00   \n",
       "\n",
       "       Elephant Yam (Suran)  \n",
       "month                        \n",
       "1                       510  \n",
       "2                       660  \n",
       "3                       649  \n",
       "4                       650  \n",
       "5                       615  \n",
       "6                       619  \n",
       "7                       767  \n",
       "8                       891  \n",
       "9                       649  \n",
       "10                      810  \n",
       "11                      750  \n",
       "12                      695  "
      ]
     },
     "execution_count": 22,
     "metadata": {},
     "output_type": "execute_result"
    }
   ],
   "source": [
    "df.groupby(by='month')[['Tomato','Onion','Potato','Brinjal','Garlic','Peas','Methi','Green Chilli','Elephant Yam (Suran)']].sum()"
   ]
  },
  {
   "cell_type": "markdown",
   "id": "e5f36dd3",
   "metadata": {},
   "source": [
    "df.groupby(by='month')[['Tomato','Onion','Potato','Brinjal','Garlic','Peas','Methi','Green Chilli','Elephant Yam (Suran)']].mean()"
   ]
  },
  {
   "cell_type": "code",
   "execution_count": 36,
   "id": "6963eff7-01a9-4047-9c5d-906ba932215f",
   "metadata": {},
   "outputs": [],
   "source": [
    "Months = df['month']\n",
    "bhindi_prices = df['Bhindi (Ladies finger)']"
   ]
  },
  {
   "cell_type": "code",
   "execution_count": 48,
   "id": "d533f6dc-80ad-48ae-a695-9abd9af3d674",
   "metadata": {
    "scrolled": true
   },
   "outputs": [
    {
     "data": {
      "image/png": "[encoded data removed]",
      "text/plain": [
       "<Figure size 900x600 with 1 Axes>"
      ]
     },
     "metadata": {},
     "output_type": "display_data"
    }
   ],
   "source": [
    "plt.figure(figsize=(9, 6))\n",
    "\n",
    "plt.bar(Months, bhindi_prices, color='green', label='Bhindi (Ladies finger)')\n",
    "plt.xlabel('Months')\n",
    "plt.ylabel('bhindi_prices')\n",
    "plt.title('Bindi Prices Over Months')\n",
    "\n",
    "plt.show()"
   ]
  },
  {
   "cell_type": "code",
   "execution_count": 10,
   "id": "519309af",
   "metadata": {},
   "outputs": [],
   "source": [
    "Months = df['month']\n",
    "tomato_prices = df['Tomato']"
   ]
  },
  {
   "cell_type": "code",
   "execution_count": 11,
   "id": "fbfb3204",
   "metadata": {},
   "outputs": [
    {
     "data": {
      "image/png": "[encoded data removed]",
      "text/plain": [
       "<Figure size 900x600 with 1 Axes>"
      ]
     },
     "metadata": {},
     "output_type": "display_data"
    }
   ],
   "source": [
    "plt.figure(figsize=(9, 6))\n",
    "\n",
    "plt.bar(Months, tomato_prices, color='green', label='Tomato')\n",
    "plt.xlabel('Months')\n",
    "plt.ylabel('tomato_prices')\n",
    "plt.title('Tomato Prices Over Months')\n",
    "\n",
    "plt.show()"
   ]
  },
  {
   "cell_type": "code",
   "execution_count": 12,
   "id": "249fe46e",
   "metadata": {},
   "outputs": [],
   "source": [
    "Months = df['month']\n",
    "onion_prices = df['Onion']"
   ]
  },
  {
   "cell_type": "code",
   "execution_count": 13,
   "id": "b0e5aaac",
   "metadata": {},
   "outputs": [
    {
     "data": {
      "image/png": "[encoded data removed]",
      "text/plain": [
       "<Figure size 900x600 with 1 Axes>"
      ]
     },
     "metadata": {},
     "output_type": "display_data"
    }
   ],
   "source": [
    "plt.figure(figsize=(9, 6))\n",
    "\n",
    "plt.bar(Months, onion_prices, color='green', label='Onion')\n",
    "plt.xlabel('Months')\n",
    "plt.ylabel('onion_prices')\n",
    "plt.title('Onion Prices Over Months')\n",
    "\n",
    "plt.show()"
   ]
  },
  {
   "cell_type": "code",
   "execution_count": 14,
   "id": "bc9bffca",
   "metadata": {},
   "outputs": [],
   "source": [
    "Months = df['month']\n",
    "potato_prices = df['Potato']"
   ]
  },
  {
   "cell_type": "code",
   "execution_count": 15,
   "id": "07d66646",
   "metadata": {},
   "outputs": [
    {
     "data": {
      "image/png": "[encoded data removed]",
      "text/plain": [
       "<Figure size 900x600 with 1 Axes>"
      ]
     },
     "metadata": {},
     "output_type": "display_data"
    }
   ],
   "source": [
    "plt.figure(figsize=(9, 6))\n",
    "\n",
    "plt.bar(Months, potato_prices, color='green', label='Potato')\n",
    "plt.xlabel('Months')\n",
    "plt.ylabel('potato_prices')\n",
    "plt.title('Potato Prices Over Months')\n",
    "\n",
    "plt.show()"
   ]
  },
  {
   "cell_type": "code",
   "execution_count": 17,
   "id": "7675fd79",
   "metadata": {},
   "outputs": [],
   "source": [
    "Months = df['month']\n",
    "brinjal_prices = df['Brinjal']"
   ]
  },
  {
   "cell_type": "code",
   "execution_count": 18,
   "id": "da46b7b6",
   "metadata": {},
   "outputs": [
    {
     "data": {
      "image/png": "[encoded data removed]",
      "text/plain": [
       "<Figure size 900x600 with 1 Axes>"
      ]
     },
     "metadata": {},
     "output_type": "display_data"
    }
   ],
   "source": [
    "plt.figure(figsize=(9, 6))\n",
    "\n",
    "plt.bar(Months, brinjal_prices, color='green', label='Brinjal')\n",
    "plt.xlabel('Months')\n",
    "plt.ylabel('brinjal_prices')\n",
    "plt.title('Brinjal Prices Over Months')\n",
    "\n",
    "plt.show()"
   ]
  },
  {
   "cell_type": "code",
   "execution_count": 28,
   "id": "b6903455",
   "metadata": {},
   "outputs": [],
   "source": [
    "Months = df['month']\n",
    "garlic_prices = df['Garlic']"
   ]
  },
  {
   "cell_type": "raw",
   "id": "98c7c664",
   "metadata": {},
   "source": [
    "plt.figure(figsize=(9, 6))\n",
    "\n",
    "plt.bar(Months, garlic_prices, color='red', label='Garlic')\n",
    "plt.xlabel('Months')\n",
    "plt.ylabel('garlic_prices')\n",
    "plt.title('Garlic Prices Over Months')\n",
    "\n",
    "plt.show()"
   ]
  },
  {
   "cell_type": "code",
   "execution_count": 22,
   "id": "53f3adba",
   "metadata": {},
   "outputs": [],
   "source": [
    "Months = df['month']\n",
    "peas_prices = df['Peas']"
   ]
  },
  {
   "cell_type": "code",
   "execution_count": 23,
   "id": "90cbbd14",
   "metadata": {},
   "outputs": [
    {
     "data": {
      "image/png": "[encoded data removed]",
      "text/plain": [
       "<Figure size 900x600 with 1 Axes>"
      ]
     },
     "metadata": {},
     "output_type": "display_data"
    }
   ],
   "source": [
    "plt.figure(figsize=(9, 6))\n",
    "\n",
    "plt.bar(Months, peas_prices, color='red', label='Peas')\n",
    "plt.xlabel('Months')\n",
    "plt.ylabel('peas_prices')\n",
    "plt.title('Peas Prices Over Months')\n",
    "\n",
    "plt.show()"
   ]
  },
  {
   "cell_type": "code",
   "execution_count": 30,
   "id": "5e752f15-20bb-4b6e-8f40-54c431d95551",
   "metadata": {},
   "outputs": [
    {
     "ename": "KeyError",
     "evalue": "'Bhindi(Ladies finger)'",
     "output_type": "error",
     "traceback": [
      "\u001b[1;31m---------------------------------------------------------------------------\u001b[0m",
      "\u001b[1;31mKeyError\u001b[0m                                  Traceback (most recent call last)",
      "File \u001b[1;32m~\\anaconda3\\Lib\\site-packages\\pandas\\core\\indexes\\base.py:3653\u001b[0m, in \u001b[0;36mIndex.get_loc\u001b[1;34m(self, key)\u001b[0m\n\u001b[0;32m   3652\u001b[0m \u001b[38;5;28;01mtry\u001b[39;00m:\n\u001b[1;32m-> 3653\u001b[0m     \u001b[38;5;28;01mreturn\u001b[39;00m \u001b[38;5;28mself\u001b[39m\u001b[38;5;241m.\u001b[39m_engine\u001b[38;5;241m.\u001b[39mget_loc(casted_key)\n\u001b[0;32m   3654\u001b[0m \u001b[38;5;28;01mexcept\u001b[39;00m \u001b[38;5;167;01mKeyError\u001b[39;00m \u001b[38;5;28;01mas\u001b[39;00m err:\n",
      "File \u001b[1;32m~\\anaconda3\\Lib\\site-packages\\pandas\\_libs\\index.pyx:147\u001b[0m, in \u001b[0;36mpandas._libs.index.IndexEngine.get_loc\u001b[1;34m()\u001b[0m\n",
      "File \u001b[1;32m~\\anaconda3\\Lib\\site-packages\\pandas\\_libs\\index.pyx:176\u001b[0m, in \u001b[0;36mpandas._libs.index.IndexEngine.get_loc\u001b[1;34m()\u001b[0m\n",
      "File \u001b[1;32mpandas\\_libs\\hashtable_class_helper.pxi:7080\u001b[0m, in \u001b[0;36mpandas._libs.hashtable.PyObjectHashTable.get_item\u001b[1;34m()\u001b[0m\n",
      "File \u001b[1;32mpandas\\_libs\\hashtable_class_helper.pxi:7088\u001b[0m, in \u001b[0;36mpandas._libs.hashtable.PyObjectHashTable.get_item\u001b[1;34m()\u001b[0m\n",
      "\u001b[1;31mKeyError\u001b[0m: 'Bhindi(Ladies finger)'",
      "\nThe above exception was the direct cause of the following exception:\n",
      "\u001b[1;31mKeyError\u001b[0m                                  Traceback (most recent call last)",
      "Cell \u001b[1;32mIn[30], line 2\u001b[0m\n\u001b[0;32m      1\u001b[0m dates \u001b[38;5;241m=\u001b[39m df[\u001b[38;5;124m'\u001b[39m\u001b[38;5;124mPrice Dates\u001b[39m\u001b[38;5;124m'\u001b[39m]\n\u001b[1;32m----> 2\u001b[0m bhindi_prices \u001b[38;5;241m=\u001b[39m df[\u001b[38;5;124m'\u001b[39m\u001b[38;5;124mBhindi(Ladies finger)\u001b[39m\u001b[38;5;124m'\u001b[39m]\n",
      "File \u001b[1;32m~\\anaconda3\\Lib\\site-packages\\pandas\\core\\frame.py:3761\u001b[0m, in \u001b[0;36mDataFrame.__getitem__\u001b[1;34m(self, key)\u001b[0m\n\u001b[0;32m   3759\u001b[0m \u001b[38;5;28;01mif\u001b[39;00m \u001b[38;5;28mself\u001b[39m\u001b[38;5;241m.\u001b[39mcolumns\u001b[38;5;241m.\u001b[39mnlevels \u001b[38;5;241m>\u001b[39m \u001b[38;5;241m1\u001b[39m:\n\u001b[0;32m   3760\u001b[0m     \u001b[38;5;28;01mreturn\u001b[39;00m \u001b[38;5;28mself\u001b[39m\u001b[38;5;241m.\u001b[39m_getitem_multilevel(key)\n\u001b[1;32m-> 3761\u001b[0m indexer \u001b[38;5;241m=\u001b[39m \u001b[38;5;28mself\u001b[39m\u001b[38;5;241m.\u001b[39mcolumns\u001b[38;5;241m.\u001b[39mget_loc(key)\n\u001b[0;32m   3762\u001b[0m \u001b[38;5;28;01mif\u001b[39;00m is_integer(indexer):\n\u001b[0;32m   3763\u001b[0m     indexer \u001b[38;5;241m=\u001b[39m [indexer]\n",
      "File \u001b[1;32m~\\anaconda3\\Lib\\site-packages\\pandas\\core\\indexes\\base.py:3655\u001b[0m, in \u001b[0;36mIndex.get_loc\u001b[1;34m(self, key)\u001b[0m\n\u001b[0;32m   3653\u001b[0m     \u001b[38;5;28;01mreturn\u001b[39;00m \u001b[38;5;28mself\u001b[39m\u001b[38;5;241m.\u001b[39m_engine\u001b[38;5;241m.\u001b[39mget_loc(casted_key)\n\u001b[0;32m   3654\u001b[0m \u001b[38;5;28;01mexcept\u001b[39;00m \u001b[38;5;167;01mKeyError\u001b[39;00m \u001b[38;5;28;01mas\u001b[39;00m err:\n\u001b[1;32m-> 3655\u001b[0m     \u001b[38;5;28;01mraise\u001b[39;00m \u001b[38;5;167;01mKeyError\u001b[39;00m(key) \u001b[38;5;28;01mfrom\u001b[39;00m \u001b[38;5;21;01merr\u001b[39;00m\n\u001b[0;32m   3656\u001b[0m \u001b[38;5;28;01mexcept\u001b[39;00m \u001b[38;5;167;01mTypeError\u001b[39;00m:\n\u001b[0;32m   3657\u001b[0m     \u001b[38;5;66;03m# If we have a listlike key, _check_indexing_error will raise\u001b[39;00m\n\u001b[0;32m   3658\u001b[0m     \u001b[38;5;66;03m#  InvalidIndexError. Otherwise we fall through and re-raise\u001b[39;00m\n\u001b[0;32m   3659\u001b[0m     \u001b[38;5;66;03m#  the TypeError.\u001b[39;00m\n\u001b[0;32m   3660\u001b[0m     \u001b[38;5;28mself\u001b[39m\u001b[38;5;241m.\u001b[39m_check_indexing_error(key)\n",
      "\u001b[1;31mKeyError\u001b[0m: 'Bhindi(Ladies finger)'"
     ]
    }
   ],
   "source": [
    "dates = df['Price Dates']\n",
    "bhindi_prices = df['Bhindi(Ladies finger)']"
   ]
  },
  {
   "cell_type": "code",
   "execution_count": 31,
   "id": "a99a9569-2f7e-4b0b-9807-72ea65f90bee",
   "metadata": {},
   "outputs": [
    {
     "ename": "NameError",
     "evalue": "name 'bhindi_prices' is not defined",
     "output_type": "error",
     "traceback": [
      "\u001b[1;31m---------------------------------------------------------------------------\u001b[0m",
      "\u001b[1;31mNameError\u001b[0m                                 Traceback (most recent call last)",
      "Cell \u001b[1;32mIn[31], line 2\u001b[0m\n\u001b[0;32m      1\u001b[0m plt\u001b[38;5;241m.\u001b[39mfigure(figsize\u001b[38;5;241m=\u001b[39m(\u001b[38;5;241m12\u001b[39m, \u001b[38;5;241m6\u001b[39m))\n\u001b[1;32m----> 2\u001b[0m plt\u001b[38;5;241m.\u001b[39mplot(dates, bhindi_prices)\n\u001b[0;32m      4\u001b[0m \u001b[38;5;66;03m# Show the plot\u001b[39;00m\n\u001b[0;32m      5\u001b[0m plt\u001b[38;5;241m.\u001b[39mshow()\n",
      "\u001b[1;31mNameError\u001b[0m: name 'bhindi_prices' is not defined"
     ]
    },
    {
     "data": {
      "text/plain": [
       "<Figure size 1200x600 with 0 Axes>"
      ]
     },
     "metadata": {},
     "output_type": "display_data"
    }
   ],
   "source": [
    "plt.figure(figsize=(12, 6))\n",
    "plt.plot(dates, bhindi_prices)\n",
    "\n",
    "# Show the plot\n",
    "plt.show()"
   ]
  },
  {
   "cell_type": "markdown",
   "id": "9bf2e7ea-3760-4255-8d29-2f7f922aec40",
   "metadata": {},
   "source": [
    "## Conclusion and Insights"
   ]
  }
 ],
 "metadata": {
  "kernelspec": {
   "display_name": "Python 3 (ipykernel)",
   "language": "python",
   "name": "python3"
  },
  "language_info": {
   "codemirror_mode": {
    "name": "ipython",
    "version": 3
   },
   "file_extension": ".py",
   "mimetype": "text/x-python",
   "name": "python",
   "nbconvert_exporter": "python",
   "pygments_lexer": "ipython3",
   "version": "3.11.7"
  }
 },
 "nbformat": 4,
 "nbformat_minor": 5
}
