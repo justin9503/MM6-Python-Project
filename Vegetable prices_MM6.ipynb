{
 "cells": [
  {
   "cell_type": "markdown",
   "id": "7f3e949b-fcfb-45f0-8058-966d72b785ec",
   "metadata": {},
   "source": [
    "# Project Overview: Analyzing Vegetable Price Trends\n",
    "<p style=\"text-align:center;\"><img src=\"https://media.citizen.co.za/wp-content/uploads/2023/12/household-food-basket-prices.jpg\" width=700 height=700></p>"
   ]
  },
  {
   "cell_type": "markdown",
   "id": "0ef2e935-002e-47dc-b81a-020ed4ca3b0c",
   "metadata": {},
   "source": [
    "## Introduction\n",
    "Understanding the dynamics of vegetable prices is essential for both policymakers and consumers in India, given the significant impact it has on food security and economic well-being. This project focuses on exploring and analyzing a dataset that provides detailed information on vegetable prices across various regions of India. Collected from the authoritative source, the Agricultural Marketing Information Network (AGMARKNET), this dataset offers valuable insights into the fluctuating prices of 10 different types of vegetables over the course of a year."
   ]
  },
  {
   "cell_type": "markdown",
   "id": "bca0be01-79fb-4d6b-93c6-39f71d4a8032",
   "metadata": {},
   "source": [
    "### Dataset Description:\n",
    "The dataset comprises information on the prices of 10 commonly consumed vegetables in India over a span of one year. Each entry in the dataset includes the type of vegetable, the price at which it was sold, and the corresponding timestamp indicating the date of sale. With data collected from diverse regions across India, the dataset facilitates an in-depth analysis of regional variations and seasonal trends in vegetable prices."
   ]
  },
  {
   "cell_type": "markdown",
   "id": "32047f41-24b0-4ad2-a22e-3e412ec48b09",
   "metadata": {},
   "source": [
    "## Importing Packages"
   ]
  },
  {
   "cell_type": "code",
   "execution_count": 71,
   "id": "a166a845-c11f-4115-84ef-69789cb0f79b",
   "metadata": {},
   "outputs": [],
   "source": [
    "%matplotlib inline\n",
    "\n",
    "import pandas as pd\n",
    "import numpy as np\n",
    "import matplotlib.pyplot as plt\n",
    "import seaborn as sns"
   ]
  },
  {
   "cell_type": "markdown",
   "id": "e30c0d4a-88e2-41db-9faa-7a079126a4dc",
   "metadata": {},
   "source": [
    "## Data Loading and Data Cleaning\n",
    "\n",
    "Load the data, \n",
    "check, and change data to the correct Data types. \n",
    "For Example, The price date was an Object. This would impact our EDA section should we decide to visualize the date or make use of a trend Line"
   ]
  },
  {
   "cell_type": "code",
   "execution_count": 15,
   "id": "0a7718ab-c433-4e4e-867d-cc8d17af43ab",
   "metadata": {},
   "outputs": [
    {
     "name": "stdout",
     "output_type": "stream",
     "text": [
      "Dataset URL: https://www.kaggle.com/datasets/ksamiksha19/vegetable-prices\n",
      "License(s): other\n",
      "Downloading vegetable-prices.zip to C:\\Users\\Tshifaro Justin\\OneDrive\\Desktop\\ExploreAI\\MM6-Python-Project\n",
      "\n"
     ]
    },
    {
     "name": "stderr",
     "output_type": "stream",
     "text": [
      "\n",
      "  0%|          | 0.00/2.87k [00:00<?, ?B/s]\n",
      "100%|##########| 2.87k/2.87k [00:00<00:00, 2.94MB/s]\n"
     ]
    }
   ],
   "source": [
    "!kaggle datasets download -d ksamiksha19/vegetable-prices"
   ]
  },
  {
   "cell_type": "code",
   "execution_count": 17,
   "id": "f4a7a160-73ab-4880-8256-8122cfdc24c6",
   "metadata": {},
   "outputs": [
    {
     "data": {
      "text/html": [
       "<div>\n",
       "<style scoped>\n",
       "    .dataframe tbody tr th:only-of-type {\n",
       "        vertical-align: middle;\n",
       "    }\n",
       "\n",
       "    .dataframe tbody tr th {\n",
       "        vertical-align: top;\n",
       "    }\n",
       "\n",
       "    .dataframe thead th {\n",
       "        text-align: right;\n",
       "    }\n",
       "</style>\n",
       "<table border=\"1\" class=\"dataframe\">\n",
       "  <thead>\n",
       "    <tr style=\"text-align: right;\">\n",
       "      <th></th>\n",
       "      <th>Price Dates</th>\n",
       "      <th>Bhindi (Ladies finger)</th>\n",
       "      <th>Tomato</th>\n",
       "      <th>Onion</th>\n",
       "      <th>Potato</th>\n",
       "      <th>Brinjal</th>\n",
       "      <th>Garlic</th>\n",
       "      <th>Peas</th>\n",
       "      <th>Methi</th>\n",
       "      <th>Green Chilli</th>\n",
       "      <th>Elephant Yam (Suran)</th>\n",
       "    </tr>\n",
       "  </thead>\n",
       "  <tbody>\n",
       "    <tr>\n",
       "      <th>0</th>\n",
       "      <td>01-01-2023</td>\n",
       "      <td>35.0</td>\n",
       "      <td>18</td>\n",
       "      <td>22.0</td>\n",
       "      <td>20</td>\n",
       "      <td>30</td>\n",
       "      <td>50</td>\n",
       "      <td>25</td>\n",
       "      <td>8</td>\n",
       "      <td>45.0</td>\n",
       "      <td>25</td>\n",
       "    </tr>\n",
       "    <tr>\n",
       "      <th>1</th>\n",
       "      <td>02-01-2023</td>\n",
       "      <td>35.0</td>\n",
       "      <td>16</td>\n",
       "      <td>22.0</td>\n",
       "      <td>20</td>\n",
       "      <td>30</td>\n",
       "      <td>55</td>\n",
       "      <td>25</td>\n",
       "      <td>7</td>\n",
       "      <td>40.0</td>\n",
       "      <td>25</td>\n",
       "    </tr>\n",
       "    <tr>\n",
       "      <th>2</th>\n",
       "      <td>03-01-2023</td>\n",
       "      <td>35.0</td>\n",
       "      <td>16</td>\n",
       "      <td>21.0</td>\n",
       "      <td>20</td>\n",
       "      <td>30</td>\n",
       "      <td>55</td>\n",
       "      <td>25</td>\n",
       "      <td>7</td>\n",
       "      <td>40.0</td>\n",
       "      <td>25</td>\n",
       "    </tr>\n",
       "    <tr>\n",
       "      <th>3</th>\n",
       "      <td>04-01-2023</td>\n",
       "      <td>30.0</td>\n",
       "      <td>16</td>\n",
       "      <td>21.0</td>\n",
       "      <td>22</td>\n",
       "      <td>25</td>\n",
       "      <td>55</td>\n",
       "      <td>25</td>\n",
       "      <td>7</td>\n",
       "      <td>40.0</td>\n",
       "      <td>25</td>\n",
       "    </tr>\n",
       "    <tr>\n",
       "      <th>4</th>\n",
       "      <td>08-01-2023</td>\n",
       "      <td>35.0</td>\n",
       "      <td>16</td>\n",
       "      <td>20.0</td>\n",
       "      <td>21</td>\n",
       "      <td>25</td>\n",
       "      <td>55</td>\n",
       "      <td>22</td>\n",
       "      <td>6</td>\n",
       "      <td>35.0</td>\n",
       "      <td>25</td>\n",
       "    </tr>\n",
       "  </tbody>\n",
       "</table>\n",
       "</div>"
      ],
      "text/plain": [
       "  Price Dates  Bhindi (Ladies finger)  Tomato  Onion  Potato  Brinjal  Garlic  \\\n",
       "0  01-01-2023                    35.0      18   22.0      20       30      50   \n",
       "1  02-01-2023                    35.0      16   22.0      20       30      55   \n",
       "2  03-01-2023                    35.0      16   21.0      20       30      55   \n",
       "3  04-01-2023                    30.0      16   21.0      22       25      55   \n",
       "4  08-01-2023                    35.0      16   20.0      21       25      55   \n",
       "\n",
       "   Peas  Methi  Green Chilli  Elephant Yam (Suran)  \n",
       "0    25      8          45.0                    25  \n",
       "1    25      7          40.0                    25  \n",
       "2    25      7          40.0                    25  \n",
       "3    25      7          40.0                    25  \n",
       "4    22      6          35.0                    25  "
      ]
     },
     "execution_count": 17,
     "metadata": {},
     "output_type": "execute_result"
    }
   ],
   "source": [
    "import pandas as pd\n",
    "df = pd.read_csv('prices.csv')\n",
    "df.head()"
   ]
  },
  {
   "cell_type": "code",
   "execution_count": 18,
   "id": "e4aa08e1-a028-4618-9add-9f61779d173c",
   "metadata": {},
   "outputs": [
    {
     "name": "stdout",
     "output_type": "stream",
     "text": [
      "datetime64[ns]\n"
     ]
    }
   ],
   "source": [
    "df['Price Dates'] =pd.to_datetime(df[\"Price Dates\"], format=  \"%d-%m-%Y\")\n",
    "print(df['Price Dates'].dtypes)"
   ]
  },
  {
   "cell_type": "code",
   "execution_count": 16,
   "id": "8d4bb7dc-958f-4f6b-a697-0647c26e2f1a",
   "metadata": {},
   "outputs": [
    {
     "data": {
      "text/plain": [
       "Price Dates               0\n",
       "Bhindi (Ladies finger)    0\n",
       "Tomato                    0\n",
       "Onion                     0\n",
       "Potato                    0\n",
       "Brinjal                   0\n",
       "Garlic                    0\n",
       "Peas                      0\n",
       "Methi                     0\n",
       "Green Chilli              0\n",
       "Elephant Yam (Suran)      0\n",
       "dtype: int64"
      ]
     },
     "execution_count": 16,
     "metadata": {},
     "output_type": "execute_result"
    }
   ],
   "source": [
    "df.isna().sum()"
   ]
  },
  {
   "cell_type": "markdown",
   "id": "794e2b9b-d599-4e04-8f12-f417152b2a6f",
   "metadata": {},
   "source": [
    "## Exploratory Data Analysis (EDA)"
   ]
  },
  {
   "cell_type": "code",
   "execution_count": 13,
   "id": "bfd80b21-fc18-40ce-b02d-e966ac80b12c",
   "metadata": {},
   "outputs": [
    {
     "data": {
      "text/html": [
       "<div>\n",
       "<style scoped>\n",
       "    .dataframe tbody tr th:only-of-type {\n",
       "        vertical-align: middle;\n",
       "    }\n",
       "\n",
       "    .dataframe tbody tr th {\n",
       "        vertical-align: top;\n",
       "    }\n",
       "\n",
       "    .dataframe thead th {\n",
       "        text-align: right;\n",
       "    }\n",
       "</style>\n",
       "<table border=\"1\" class=\"dataframe\">\n",
       "  <thead>\n",
       "    <tr style=\"text-align: right;\">\n",
       "      <th></th>\n",
       "      <th>Price Dates</th>\n",
       "      <th>Bhindi (Ladies finger)</th>\n",
       "      <th>Tomato</th>\n",
       "      <th>Onion</th>\n",
       "      <th>Potato</th>\n",
       "      <th>Brinjal</th>\n",
       "      <th>Garlic</th>\n",
       "      <th>Peas</th>\n",
       "      <th>Methi</th>\n",
       "      <th>Green Chilli</th>\n",
       "      <th>Elephant Yam (Suran)</th>\n",
       "    </tr>\n",
       "  </thead>\n",
       "  <tbody>\n",
       "    <tr>\n",
       "      <th>count</th>\n",
       "      <td>287</td>\n",
       "      <td>287.000000</td>\n",
       "      <td>287.000000</td>\n",
       "      <td>287.000000</td>\n",
       "      <td>287.000000</td>\n",
       "      <td>287.000000</td>\n",
       "      <td>287.000000</td>\n",
       "      <td>287.000000</td>\n",
       "      <td>287.000000</td>\n",
       "      <td>287.000000</td>\n",
       "      <td>287.000000</td>\n",
       "    </tr>\n",
       "    <tr>\n",
       "      <th>mean</th>\n",
       "      <td>2023-07-04 21:54:33.867595776</td>\n",
       "      <td>29.444251</td>\n",
       "      <td>16.006969</td>\n",
       "      <td>20.649826</td>\n",
       "      <td>18.585366</td>\n",
       "      <td>31.655052</td>\n",
       "      <td>133.101045</td>\n",
       "      <td>66.658537</td>\n",
       "      <td>20.383275</td>\n",
       "      <td>44.122404</td>\n",
       "      <td>28.797909</td>\n",
       "    </tr>\n",
       "    <tr>\n",
       "      <th>min</th>\n",
       "      <td>2023-01-01 00:00:00</td>\n",
       "      <td>17.000000</td>\n",
       "      <td>16.000000</td>\n",
       "      <td>8.000000</td>\n",
       "      <td>12.000000</td>\n",
       "      <td>14.000000</td>\n",
       "      <td>50.000000</td>\n",
       "      <td>22.000000</td>\n",
       "      <td>5.000000</td>\n",
       "      <td>0.130000</td>\n",
       "      <td>12.000000</td>\n",
       "    </tr>\n",
       "    <tr>\n",
       "      <th>25%</th>\n",
       "      <td>2023-04-06 12:00:00</td>\n",
       "      <td>22.000000</td>\n",
       "      <td>16.000000</td>\n",
       "      <td>12.000000</td>\n",
       "      <td>16.000000</td>\n",
       "      <td>25.000000</td>\n",
       "      <td>85.000000</td>\n",
       "      <td>40.000000</td>\n",
       "      <td>8.000000</td>\n",
       "      <td>35.000000</td>\n",
       "      <td>25.000000</td>\n",
       "    </tr>\n",
       "    <tr>\n",
       "      <th>50%</th>\n",
       "      <td>2023-07-04 00:00:00</td>\n",
       "      <td>27.500000</td>\n",
       "      <td>16.000000</td>\n",
       "      <td>16.000000</td>\n",
       "      <td>20.000000</td>\n",
       "      <td>30.000000</td>\n",
       "      <td>120.000000</td>\n",
       "      <td>60.000000</td>\n",
       "      <td>12.000000</td>\n",
       "      <td>40.000000</td>\n",
       "      <td>30.000000</td>\n",
       "    </tr>\n",
       "    <tr>\n",
       "      <th>75%</th>\n",
       "      <td>2023-10-01 12:00:00</td>\n",
       "      <td>33.000000</td>\n",
       "      <td>16.000000</td>\n",
       "      <td>25.000000</td>\n",
       "      <td>20.000000</td>\n",
       "      <td>35.000000</td>\n",
       "      <td>165.000000</td>\n",
       "      <td>80.000000</td>\n",
       "      <td>16.000000</td>\n",
       "      <td>50.000000</td>\n",
       "      <td>30.000000</td>\n",
       "    </tr>\n",
       "    <tr>\n",
       "      <th>max</th>\n",
       "      <td>2024-01-01 00:00:00</td>\n",
       "      <td>60.000000</td>\n",
       "      <td>18.000000</td>\n",
       "      <td>57.000000</td>\n",
       "      <td>24.000000</td>\n",
       "      <td>80.000000</td>\n",
       "      <td>290.000000</td>\n",
       "      <td>150.000000</td>\n",
       "      <td>2000.000000</td>\n",
       "      <td>90.000000</td>\n",
       "      <td>50.000000</td>\n",
       "    </tr>\n",
       "    <tr>\n",
       "      <th>std</th>\n",
       "      <td>NaN</td>\n",
       "      <td>8.124815</td>\n",
       "      <td>0.118056</td>\n",
       "      <td>11.711204</td>\n",
       "      <td>2.726238</td>\n",
       "      <td>11.725421</td>\n",
       "      <td>60.078331</td>\n",
       "      <td>33.302415</td>\n",
       "      <td>117.428417</td>\n",
       "      <td>12.796590</td>\n",
       "      <td>6.607973</td>\n",
       "    </tr>\n",
       "  </tbody>\n",
       "</table>\n",
       "</div>"
      ],
      "text/plain": [
       "                         Price Dates  Bhindi (Ladies finger)      Tomato  \\\n",
       "count                            287              287.000000  287.000000   \n",
       "mean   2023-07-04 21:54:33.867595776               29.444251   16.006969   \n",
       "min              2023-01-01 00:00:00               17.000000   16.000000   \n",
       "25%              2023-04-06 12:00:00               22.000000   16.000000   \n",
       "50%              2023-07-04 00:00:00               27.500000   16.000000   \n",
       "75%              2023-10-01 12:00:00               33.000000   16.000000   \n",
       "max              2024-01-01 00:00:00               60.000000   18.000000   \n",
       "std                              NaN                8.124815    0.118056   \n",
       "\n",
       "            Onion      Potato     Brinjal      Garlic        Peas  \\\n",
       "count  287.000000  287.000000  287.000000  287.000000  287.000000   \n",
       "mean    20.649826   18.585366   31.655052  133.101045   66.658537   \n",
       "min      8.000000   12.000000   14.000000   50.000000   22.000000   \n",
       "25%     12.000000   16.000000   25.000000   85.000000   40.000000   \n",
       "50%     16.000000   20.000000   30.000000  120.000000   60.000000   \n",
       "75%     25.000000   20.000000   35.000000  165.000000   80.000000   \n",
       "max     57.000000   24.000000   80.000000  290.000000  150.000000   \n",
       "std     11.711204    2.726238   11.725421   60.078331   33.302415   \n",
       "\n",
       "             Methi  Green Chilli  Elephant Yam (Suran)  \n",
       "count   287.000000    287.000000            287.000000  \n",
       "mean     20.383275     44.122404             28.797909  \n",
       "min       5.000000      0.130000             12.000000  \n",
       "25%       8.000000     35.000000             25.000000  \n",
       "50%      12.000000     40.000000             30.000000  \n",
       "75%      16.000000     50.000000             30.000000  \n",
       "max    2000.000000     90.000000             50.000000  \n",
       "std     117.428417     12.796590              6.607973  "
      ]
     },
     "execution_count": 13,
     "metadata": {},
     "output_type": "execute_result"
    }
   ],
   "source": [
    "df.describe()"
   ]
  },
  {
   "cell_type": "code",
   "execution_count": 19,
   "id": "b8b0d452-5744-46ab-ae67-b566a9d079ca",
   "metadata": {},
   "outputs": [
    {
     "data": {
      "text/html": [
       "<div>\n",
       "<style scoped>\n",
       "    .dataframe tbody tr th:only-of-type {\n",
       "        vertical-align: middle;\n",
       "    }\n",
       "\n",
       "    .dataframe tbody tr th {\n",
       "        vertical-align: top;\n",
       "    }\n",
       "\n",
       "    .dataframe thead th {\n",
       "        text-align: right;\n",
       "    }\n",
       "</style>\n",
       "<table border=\"1\" class=\"dataframe\">\n",
       "  <thead>\n",
       "    <tr style=\"text-align: right;\">\n",
       "      <th></th>\n",
       "      <th>Price Dates</th>\n",
       "      <th>Bhindi (Ladies finger)</th>\n",
       "      <th>Tomato</th>\n",
       "      <th>Onion</th>\n",
       "      <th>Potato</th>\n",
       "      <th>Brinjal</th>\n",
       "      <th>Garlic</th>\n",
       "      <th>Peas</th>\n",
       "      <th>Methi</th>\n",
       "      <th>Green Chilli</th>\n",
       "      <th>Elephant Yam (Suran)</th>\n",
       "      <th>month</th>\n",
       "    </tr>\n",
       "  </thead>\n",
       "  <tbody>\n",
       "    <tr>\n",
       "      <th>0</th>\n",
       "      <td>2023-01-01</td>\n",
       "      <td>35.0</td>\n",
       "      <td>18</td>\n",
       "      <td>22.0</td>\n",
       "      <td>20</td>\n",
       "      <td>30</td>\n",
       "      <td>50</td>\n",
       "      <td>25</td>\n",
       "      <td>8</td>\n",
       "      <td>45.0</td>\n",
       "      <td>25</td>\n",
       "      <td>1</td>\n",
       "    </tr>\n",
       "    <tr>\n",
       "      <th>1</th>\n",
       "      <td>2023-01-02</td>\n",
       "      <td>35.0</td>\n",
       "      <td>16</td>\n",
       "      <td>22.0</td>\n",
       "      <td>20</td>\n",
       "      <td>30</td>\n",
       "      <td>55</td>\n",
       "      <td>25</td>\n",
       "      <td>7</td>\n",
       "      <td>40.0</td>\n",
       "      <td>25</td>\n",
       "      <td>1</td>\n",
       "    </tr>\n",
       "    <tr>\n",
       "      <th>2</th>\n",
       "      <td>2023-01-03</td>\n",
       "      <td>35.0</td>\n",
       "      <td>16</td>\n",
       "      <td>21.0</td>\n",
       "      <td>20</td>\n",
       "      <td>30</td>\n",
       "      <td>55</td>\n",
       "      <td>25</td>\n",
       "      <td>7</td>\n",
       "      <td>40.0</td>\n",
       "      <td>25</td>\n",
       "      <td>1</td>\n",
       "    </tr>\n",
       "    <tr>\n",
       "      <th>3</th>\n",
       "      <td>2023-01-04</td>\n",
       "      <td>30.0</td>\n",
       "      <td>16</td>\n",
       "      <td>21.0</td>\n",
       "      <td>22</td>\n",
       "      <td>25</td>\n",
       "      <td>55</td>\n",
       "      <td>25</td>\n",
       "      <td>7</td>\n",
       "      <td>40.0</td>\n",
       "      <td>25</td>\n",
       "      <td>1</td>\n",
       "    </tr>\n",
       "    <tr>\n",
       "      <th>4</th>\n",
       "      <td>2023-01-08</td>\n",
       "      <td>35.0</td>\n",
       "      <td>16</td>\n",
       "      <td>20.0</td>\n",
       "      <td>21</td>\n",
       "      <td>25</td>\n",
       "      <td>55</td>\n",
       "      <td>22</td>\n",
       "      <td>6</td>\n",
       "      <td>35.0</td>\n",
       "      <td>25</td>\n",
       "      <td>1</td>\n",
       "    </tr>\n",
       "  </tbody>\n",
       "</table>\n",
       "</div>"
      ],
      "text/plain": [
       "  Price Dates  Bhindi (Ladies finger)  Tomato  Onion  Potato  Brinjal  Garlic  \\\n",
       "0  2023-01-01                    35.0      18   22.0      20       30      50   \n",
       "1  2023-01-02                    35.0      16   22.0      20       30      55   \n",
       "2  2023-01-03                    35.0      16   21.0      20       30      55   \n",
       "3  2023-01-04                    30.0      16   21.0      22       25      55   \n",
       "4  2023-01-08                    35.0      16   20.0      21       25      55   \n",
       "\n",
       "   Peas  Methi  Green Chilli  Elephant Yam (Suran)  month  \n",
       "0    25      8          45.0                    25      1  \n",
       "1    25      7          40.0                    25      1  \n",
       "2    25      7          40.0                    25      1  \n",
       "3    25      7          40.0                    25      1  \n",
       "4    22      6          35.0                    25      1  "
      ]
     },
     "execution_count": 19,
     "metadata": {},
     "output_type": "execute_result"
    }
   ],
   "source": [
    "df['month'] = df['Price Dates'].dt.month\n",
    "df.head()"
   ]
  },
  {
   "cell_type": "code",
   "execution_count": 22,
   "id": "f92d9cbd-2d56-47bd-a00d-af7fc420e0a7",
   "metadata": {},
   "outputs": [
    {
     "data": {
      "text/html": [
       "<div>\n",
       "<style scoped>\n",
       "    .dataframe tbody tr th:only-of-type {\n",
       "        vertical-align: middle;\n",
       "    }\n",
       "\n",
       "    .dataframe tbody tr th {\n",
       "        vertical-align: top;\n",
       "    }\n",
       "\n",
       "    .dataframe thead th {\n",
       "        text-align: right;\n",
       "    }\n",
       "</style>\n",
       "<table border=\"1\" class=\"dataframe\">\n",
       "  <thead>\n",
       "    <tr style=\"text-align: right;\">\n",
       "      <th></th>\n",
       "      <th>Tomato</th>\n",
       "      <th>Onion</th>\n",
       "      <th>Potato</th>\n",
       "      <th>Brinjal</th>\n",
       "      <th>Garlic</th>\n",
       "      <th>Peas</th>\n",
       "      <th>Methi</th>\n",
       "      <th>Green Chilli</th>\n",
       "      <th>Elephant Yam (Suran)</th>\n",
       "    </tr>\n",
       "    <tr>\n",
       "      <th>month</th>\n",
       "      <th></th>\n",
       "      <th></th>\n",
       "      <th></th>\n",
       "      <th></th>\n",
       "      <th></th>\n",
       "      <th></th>\n",
       "      <th></th>\n",
       "      <th></th>\n",
       "      <th></th>\n",
       "    </tr>\n",
       "  </thead>\n",
       "  <tbody>\n",
       "    <tr>\n",
       "      <th>1</th>\n",
       "      <td>290</td>\n",
       "      <td>313.5</td>\n",
       "      <td>367</td>\n",
       "      <td>710</td>\n",
       "      <td>1300</td>\n",
       "      <td>471</td>\n",
       "      <td>186</td>\n",
       "      <td>695.00</td>\n",
       "      <td>510</td>\n",
       "    </tr>\n",
       "    <tr>\n",
       "      <th>2</th>\n",
       "      <td>384</td>\n",
       "      <td>292.5</td>\n",
       "      <td>359</td>\n",
       "      <td>786</td>\n",
       "      <td>1770</td>\n",
       "      <td>745</td>\n",
       "      <td>195</td>\n",
       "      <td>962.00</td>\n",
       "      <td>660</td>\n",
       "    </tr>\n",
       "    <tr>\n",
       "      <th>3</th>\n",
       "      <td>416</td>\n",
       "      <td>296.0</td>\n",
       "      <td>354</td>\n",
       "      <td>576</td>\n",
       "      <td>2055</td>\n",
       "      <td>1000</td>\n",
       "      <td>187</td>\n",
       "      <td>1185.00</td>\n",
       "      <td>649</td>\n",
       "    </tr>\n",
       "    <tr>\n",
       "      <th>4</th>\n",
       "      <td>384</td>\n",
       "      <td>224.5</td>\n",
       "      <td>372</td>\n",
       "      <td>580</td>\n",
       "      <td>1975</td>\n",
       "      <td>1631</td>\n",
       "      <td>315</td>\n",
       "      <td>910.13</td>\n",
       "      <td>650</td>\n",
       "    </tr>\n",
       "    <tr>\n",
       "      <th>5</th>\n",
       "      <td>400</td>\n",
       "      <td>267.0</td>\n",
       "      <td>508</td>\n",
       "      <td>610</td>\n",
       "      <td>2305</td>\n",
       "      <td>1575</td>\n",
       "      <td>288</td>\n",
       "      <td>939.00</td>\n",
       "      <td>615</td>\n",
       "    </tr>\n",
       "    <tr>\n",
       "      <th>6</th>\n",
       "      <td>400</td>\n",
       "      <td>343.0</td>\n",
       "      <td>507</td>\n",
       "      <td>820</td>\n",
       "      <td>2450</td>\n",
       "      <td>1610</td>\n",
       "      <td>399</td>\n",
       "      <td>1380.00</td>\n",
       "      <td>619</td>\n",
       "    </tr>\n",
       "    <tr>\n",
       "      <th>7</th>\n",
       "      <td>400</td>\n",
       "      <td>414.0</td>\n",
       "      <td>493</td>\n",
       "      <td>855</td>\n",
       "      <td>3585</td>\n",
       "      <td>2640</td>\n",
       "      <td>2358</td>\n",
       "      <td>1825.00</td>\n",
       "      <td>767</td>\n",
       "    </tr>\n",
       "    <tr>\n",
       "      <th>8</th>\n",
       "      <td>400</td>\n",
       "      <td>537.0</td>\n",
       "      <td>505</td>\n",
       "      <td>775</td>\n",
       "      <td>3910</td>\n",
       "      <td>1930</td>\n",
       "      <td>225</td>\n",
       "      <td>1070.00</td>\n",
       "      <td>891</td>\n",
       "    </tr>\n",
       "    <tr>\n",
       "      <th>9</th>\n",
       "      <td>368</td>\n",
       "      <td>537.0</td>\n",
       "      <td>427</td>\n",
       "      <td>552</td>\n",
       "      <td>3720</td>\n",
       "      <td>1640</td>\n",
       "      <td>388</td>\n",
       "      <td>885.00</td>\n",
       "      <td>649</td>\n",
       "    </tr>\n",
       "    <tr>\n",
       "      <th>10</th>\n",
       "      <td>416</td>\n",
       "      <td>854.0</td>\n",
       "      <td>517</td>\n",
       "      <td>1060</td>\n",
       "      <td>4315</td>\n",
       "      <td>3220</td>\n",
       "      <td>692</td>\n",
       "      <td>1185.00</td>\n",
       "      <td>810</td>\n",
       "    </tr>\n",
       "    <tr>\n",
       "      <th>11</th>\n",
       "      <td>368</td>\n",
       "      <td>1029.0</td>\n",
       "      <td>458</td>\n",
       "      <td>561</td>\n",
       "      <td>4655</td>\n",
       "      <td>1799</td>\n",
       "      <td>270</td>\n",
       "      <td>817.00</td>\n",
       "      <td>750</td>\n",
       "    </tr>\n",
       "    <tr>\n",
       "      <th>12</th>\n",
       "      <td>368</td>\n",
       "      <td>819.0</td>\n",
       "      <td>467</td>\n",
       "      <td>1200</td>\n",
       "      <td>6160</td>\n",
       "      <td>870</td>\n",
       "      <td>347</td>\n",
       "      <td>810.00</td>\n",
       "      <td>695</td>\n",
       "    </tr>\n",
       "  </tbody>\n",
       "</table>\n",
       "</div>"
      ],
      "text/plain": [
       "       Tomato   Onion  Potato  Brinjal  Garlic  Peas  Methi  Green Chilli  \\\n",
       "month                                                                       \n",
       "1         290   313.5     367      710    1300   471    186        695.00   \n",
       "2         384   292.5     359      786    1770   745    195        962.00   \n",
       "3         416   296.0     354      576    2055  1000    187       1185.00   \n",
       "4         384   224.5     372      580    1975  1631    315        910.13   \n",
       "5         400   267.0     508      610    2305  1575    288        939.00   \n",
       "6         400   343.0     507      820    2450  1610    399       1380.00   \n",
       "7         400   414.0     493      855    3585  2640   2358       1825.00   \n",
       "8         400   537.0     505      775    3910  1930    225       1070.00   \n",
       "9         368   537.0     427      552    3720  1640    388        885.00   \n",
       "10        416   854.0     517     1060    4315  3220    692       1185.00   \n",
       "11        368  1029.0     458      561    4655  1799    270        817.00   \n",
       "12        368   819.0     467     1200    6160   870    347        810.00   \n",
       "\n",
       "       Elephant Yam (Suran)  \n",
       "month                        \n",
       "1                       510  \n",
       "2                       660  \n",
       "3                       649  \n",
       "4                       650  \n",
       "5                       615  \n",
       "6                       619  \n",
       "7                       767  \n",
       "8                       891  \n",
       "9                       649  \n",
       "10                      810  \n",
       "11                      750  \n",
       "12                      695  "
      ]
     },
     "execution_count": 22,
     "metadata": {},
     "output_type": "execute_result"
    }
   ],
   "source": [
    "df.groupby(by='month')[['Tomato','Onion','Potato','Brinjal','Garlic','Peas','Methi','Green Chilli','Elephant Yam (Suran)']].sum()"
   ]
  },
  {
   "cell_type": "code",
   "execution_count": 23,
   "id": "998eba66-26a9-49e1-b174-810697b0bdf9",
   "metadata": {},
   "outputs": [
    {
     "data": {
      "text/html": [
       "<div>\n",
       "<style scoped>\n",
       "    .dataframe tbody tr th:only-of-type {\n",
       "        vertical-align: middle;\n",
       "    }\n",
       "\n",
       "    .dataframe tbody tr th {\n",
       "        vertical-align: top;\n",
       "    }\n",
       "\n",
       "    .dataframe thead th {\n",
       "        text-align: right;\n",
       "    }\n",
       "</style>\n",
       "<table border=\"1\" class=\"dataframe\">\n",
       "  <thead>\n",
       "    <tr style=\"text-align: right;\">\n",
       "      <th></th>\n",
       "      <th>Tomato</th>\n",
       "      <th>Onion</th>\n",
       "      <th>Potato</th>\n",
       "      <th>Brinjal</th>\n",
       "      <th>Garlic</th>\n",
       "      <th>Peas</th>\n",
       "      <th>Methi</th>\n",
       "      <th>Green Chilli</th>\n",
       "      <th>Elephant Yam (Suran)</th>\n",
       "    </tr>\n",
       "    <tr>\n",
       "      <th>month</th>\n",
       "      <th></th>\n",
       "      <th></th>\n",
       "      <th></th>\n",
       "      <th></th>\n",
       "      <th></th>\n",
       "      <th></th>\n",
       "      <th></th>\n",
       "      <th></th>\n",
       "      <th></th>\n",
       "    </tr>\n",
       "  </thead>\n",
       "  <tbody>\n",
       "    <tr>\n",
       "      <th>1</th>\n",
       "      <td>16.111111</td>\n",
       "      <td>17.416667</td>\n",
       "      <td>20.388889</td>\n",
       "      <td>39.444444</td>\n",
       "      <td>72.222222</td>\n",
       "      <td>26.166667</td>\n",
       "      <td>10.333333</td>\n",
       "      <td>38.611111</td>\n",
       "      <td>28.333333</td>\n",
       "    </tr>\n",
       "    <tr>\n",
       "      <th>2</th>\n",
       "      <td>16.000000</td>\n",
       "      <td>12.187500</td>\n",
       "      <td>14.958333</td>\n",
       "      <td>32.750000</td>\n",
       "      <td>73.750000</td>\n",
       "      <td>31.041667</td>\n",
       "      <td>8.125000</td>\n",
       "      <td>40.083333</td>\n",
       "      <td>27.500000</td>\n",
       "    </tr>\n",
       "    <tr>\n",
       "      <th>3</th>\n",
       "      <td>16.000000</td>\n",
       "      <td>11.384615</td>\n",
       "      <td>13.615385</td>\n",
       "      <td>22.153846</td>\n",
       "      <td>79.038462</td>\n",
       "      <td>38.461538</td>\n",
       "      <td>7.192308</td>\n",
       "      <td>45.576923</td>\n",
       "      <td>24.961538</td>\n",
       "    </tr>\n",
       "    <tr>\n",
       "      <th>4</th>\n",
       "      <td>16.000000</td>\n",
       "      <td>9.354167</td>\n",
       "      <td>15.500000</td>\n",
       "      <td>24.166667</td>\n",
       "      <td>82.291667</td>\n",
       "      <td>67.958333</td>\n",
       "      <td>13.125000</td>\n",
       "      <td>37.922083</td>\n",
       "      <td>27.083333</td>\n",
       "    </tr>\n",
       "    <tr>\n",
       "      <th>5</th>\n",
       "      <td>16.000000</td>\n",
       "      <td>10.680000</td>\n",
       "      <td>20.320000</td>\n",
       "      <td>24.400000</td>\n",
       "      <td>92.200000</td>\n",
       "      <td>63.000000</td>\n",
       "      <td>11.520000</td>\n",
       "      <td>37.560000</td>\n",
       "      <td>24.600000</td>\n",
       "    </tr>\n",
       "    <tr>\n",
       "      <th>6</th>\n",
       "      <td>16.000000</td>\n",
       "      <td>13.720000</td>\n",
       "      <td>20.280000</td>\n",
       "      <td>32.800000</td>\n",
       "      <td>98.000000</td>\n",
       "      <td>64.400000</td>\n",
       "      <td>15.960000</td>\n",
       "      <td>55.200000</td>\n",
       "      <td>24.760000</td>\n",
       "    </tr>\n",
       "    <tr>\n",
       "      <th>7</th>\n",
       "      <td>16.000000</td>\n",
       "      <td>16.560000</td>\n",
       "      <td>19.720000</td>\n",
       "      <td>34.200000</td>\n",
       "      <td>143.400000</td>\n",
       "      <td>105.600000</td>\n",
       "      <td>94.320000</td>\n",
       "      <td>73.000000</td>\n",
       "      <td>30.680000</td>\n",
       "    </tr>\n",
       "    <tr>\n",
       "      <th>8</th>\n",
       "      <td>16.000000</td>\n",
       "      <td>21.480000</td>\n",
       "      <td>20.200000</td>\n",
       "      <td>31.000000</td>\n",
       "      <td>156.400000</td>\n",
       "      <td>77.200000</td>\n",
       "      <td>9.000000</td>\n",
       "      <td>42.800000</td>\n",
       "      <td>35.640000</td>\n",
       "    </tr>\n",
       "    <tr>\n",
       "      <th>9</th>\n",
       "      <td>16.000000</td>\n",
       "      <td>23.347826</td>\n",
       "      <td>18.565217</td>\n",
       "      <td>24.000000</td>\n",
       "      <td>161.739130</td>\n",
       "      <td>71.304348</td>\n",
       "      <td>16.869565</td>\n",
       "      <td>38.478261</td>\n",
       "      <td>28.217391</td>\n",
       "    </tr>\n",
       "    <tr>\n",
       "      <th>10</th>\n",
       "      <td>16.000000</td>\n",
       "      <td>32.846154</td>\n",
       "      <td>19.884615</td>\n",
       "      <td>40.769231</td>\n",
       "      <td>165.961538</td>\n",
       "      <td>123.846154</td>\n",
       "      <td>26.615385</td>\n",
       "      <td>45.576923</td>\n",
       "      <td>31.153846</td>\n",
       "    </tr>\n",
       "    <tr>\n",
       "      <th>11</th>\n",
       "      <td>16.000000</td>\n",
       "      <td>44.739130</td>\n",
       "      <td>19.913043</td>\n",
       "      <td>24.391304</td>\n",
       "      <td>202.391304</td>\n",
       "      <td>78.217391</td>\n",
       "      <td>11.739130</td>\n",
       "      <td>35.521739</td>\n",
       "      <td>32.608696</td>\n",
       "    </tr>\n",
       "    <tr>\n",
       "      <th>12</th>\n",
       "      <td>16.000000</td>\n",
       "      <td>35.608696</td>\n",
       "      <td>20.304348</td>\n",
       "      <td>52.173913</td>\n",
       "      <td>267.826087</td>\n",
       "      <td>37.826087</td>\n",
       "      <td>15.086957</td>\n",
       "      <td>35.217391</td>\n",
       "      <td>30.217391</td>\n",
       "    </tr>\n",
       "  </tbody>\n",
       "</table>\n",
       "</div>"
      ],
      "text/plain": [
       "          Tomato      Onion     Potato    Brinjal      Garlic        Peas  \\\n",
       "month                                                                       \n",
       "1      16.111111  17.416667  20.388889  39.444444   72.222222   26.166667   \n",
       "2      16.000000  12.187500  14.958333  32.750000   73.750000   31.041667   \n",
       "3      16.000000  11.384615  13.615385  22.153846   79.038462   38.461538   \n",
       "4      16.000000   9.354167  15.500000  24.166667   82.291667   67.958333   \n",
       "5      16.000000  10.680000  20.320000  24.400000   92.200000   63.000000   \n",
       "6      16.000000  13.720000  20.280000  32.800000   98.000000   64.400000   \n",
       "7      16.000000  16.560000  19.720000  34.200000  143.400000  105.600000   \n",
       "8      16.000000  21.480000  20.200000  31.000000  156.400000   77.200000   \n",
       "9      16.000000  23.347826  18.565217  24.000000  161.739130   71.304348   \n",
       "10     16.000000  32.846154  19.884615  40.769231  165.961538  123.846154   \n",
       "11     16.000000  44.739130  19.913043  24.391304  202.391304   78.217391   \n",
       "12     16.000000  35.608696  20.304348  52.173913  267.826087   37.826087   \n",
       "\n",
       "           Methi  Green Chilli  Elephant Yam (Suran)  \n",
       "month                                                 \n",
       "1      10.333333     38.611111             28.333333  \n",
       "2       8.125000     40.083333             27.500000  \n",
       "3       7.192308     45.576923             24.961538  \n",
       "4      13.125000     37.922083             27.083333  \n",
       "5      11.520000     37.560000             24.600000  \n",
       "6      15.960000     55.200000             24.760000  \n",
       "7      94.320000     73.000000             30.680000  \n",
       "8       9.000000     42.800000             35.640000  \n",
       "9      16.869565     38.478261             28.217391  \n",
       "10     26.615385     45.576923             31.153846  \n",
       "11     11.739130     35.521739             32.608696  \n",
       "12     15.086957     35.217391             30.217391  "
      ]
     },
     "execution_count": 23,
     "metadata": {},
     "output_type": "execute_result"
    }
   ],
   "source": [
    "df.groupby(by='month')[['Tomato','Onion','Potato','Brinjal','Garlic','Peas','Methi','Green Chilli','Elephant Yam (Suran)']].mean()"
   ]
  },
  {
   "cell_type": "code",
   "execution_count": 118,
   "id": "6963eff7-01a9-4047-9c5d-906ba932215f",
   "metadata": {},
   "outputs": [],
   "source": [
    "Months = df['month']\n",
    "bhindi_prices = df['Bhindi (Ladies finger)']"
   ]
  },
  {
   "cell_type": "code",
   "execution_count": null,
   "id": "d533f6dc-80ad-48ae-a695-9abd9af3d674",
   "metadata": {
    "scrolled": true
   },
   "outputs": [],
   "source": [
    "plt.figure(figsize=(9, 6))\n",
    "\n",
    "plt.bar(Months, bhindi_prices, color='green', label='Bhindi (Ladies finger)')\n",
    "plt.xlabel('Months')\n",
    "plt.ylabel('bhindi_prices')\n",
    "plt.title('Bhindi Prices Over Months')\n",
    "\n",
    "plt.show()"
   ]
  },
  {
   "cell_type": "code",
   "execution_count": 120,
   "id": "5e752f15-20bb-4b6e-8f40-54c431d95551",
   "metadata": {},
   "outputs": [],
   "source": [
    "dates = df['Price Dates']"
   ]
  },
  {
   "cell_type": "code",
   "execution_count": 121,
   "id": "a99a9569-2f7e-4b0b-9807-72ea65f90bee",
   "metadata": {},
   "outputs": [
    {
     "data": {
      "image/png": "[encoded data removed]",
      "text/plain": [
       "<Figure size 640x480 with 1 Axes>"
      ]
     },
     "metadata": {},
     "output_type": "display_data"
    }
   ],
   "source": [
    "plt.plot(figsize=(12, 6))\n",
    "plt.plot(dates, bhindi_prices)\n",
    "\n",
    "# Show the plotdates = df['Price Dates']\n",
    "plt.show()"
   ]
  },
  {
   "cell_type": "code",
   "execution_count": 122,
   "id": "4754443a",
   "metadata": {},
   "outputs": [],
   "source": [
    "Months = df['month']\n",
    "Tomato_prices = df['Tomato']"
   ]
  },
  {
   "cell_type": "code",
   "execution_count": 125,
   "id": "bd1fe81c",
   "metadata": {
    "scrolled": true
   },
   "outputs": [
    {
     "data": {
      "image/png": "[encoded data removed]",
      "text/plain": [
       "<Figure size 900x600 with 1 Axes>"
      ]
     },
     "metadata": {},
     "output_type": "display_data"
    }
   ],
   "source": [
    "plt.figure(figsize=(9, 6))\n",
    "\n",
    "plt.plot(Months, Tomato_prices, color='green', label='Tomato')\n",
    "plt.xlabel('Months')\n",
    "plt.ylabel('Tomato')\n",
    "plt.title('Tomato Prices Over Months')\n",
    "\n",
    "plt.show()"
   ]
  },
  {
   "cell_type": "code",
   "execution_count": 126,
   "id": "1db04d1a",
   "metadata": {},
   "outputs": [],
   "source": [
    "dates = df['Price Dates']"
   ]
  },
  {
   "cell_type": "code",
   "execution_count": 127,
   "id": "e2026ba9",
   "metadata": {},
   "outputs": [
    {
     "data": {
      "image/png": "[encoded data removed]",
      "text/plain": [
       "<Figure size 640x480 with 1 Axes>"
      ]
     },
     "metadata": {},
     "output_type": "display_data"
    }
   ],
   "source": [
    "plt.plot(figsize=(12, 6))\n",
    "plt.plot(dates, Tomato_prices)\n",
    "\n",
    "# Show the plotdates = df['Price Dates']\n",
    "plt.show()"
   ]
  },
  {
   "cell_type": "code",
   "execution_count": 60,
   "id": "ff092c52",
   "metadata": {},
   "outputs": [],
   "source": [
    "Months = df['month']\n",
    "Onion_prices = df['Onion']"
   ]
  },
  {
   "cell_type": "code",
   "execution_count": null,
   "id": "807a5a53",
   "metadata": {},
   "outputs": [],
   "source": [
    "plt.figure(figsize=(9, 6))\n",
    "\n",
    "plt.plot(Months, Onion_prices, color='green', label='Onion')\n",
    "plt.xlabel('Months')\n",
    "plt.ylabel('Onion_prices')\n",
    "plt.title('Onion Prices Over Months')\n",
    "\n",
    "plt.show()"
   ]
  },
  {
   "cell_type": "code",
   "execution_count": 75,
   "id": "4092a5e7",
   "metadata": {},
   "outputs": [],
   "source": [
    "dates = df['Price Dates']"
   ]
  },
  {
   "cell_type": "code",
   "execution_count": 76,
   "id": "48e97339",
   "metadata": {},
   "outputs": [
    {
     "data": {
      "image/png": "[encoded data removed]",
      "text/plain": [
       "<Figure size 640x480 with 1 Axes>"
      ]
     },
     "metadata": {},
     "output_type": "display_data"
    }
   ],
   "source": [
    "plt.plot(figsize=(12, 6))\n",
    "plt.plot(dates, Onion_prices)\n",
    "\n",
    "# Show the plotdates = df['Price Dates']\n",
    "plt.show()"
   ]
  },
  {
   "cell_type": "code",
   "execution_count": 67,
   "id": "cfda4e4e",
   "metadata": {},
   "outputs": [],
   "source": [
    "Months = df['month']\n",
    "Potato_prices = df['Potato']"
   ]
  },
  {
   "cell_type": "code",
   "execution_count": null,
   "id": "9435fa81",
   "metadata": {},
   "outputs": [],
   "source": [
    "plt.figure(figsize=(9, 6))\n",
    "\n",
    "plt.plot(Months, Potato_prices, color='green', label='Potato')\n",
    "plt.xlabel('Months')\n",
    "plt.ylabel('Potato_prices')\n",
    "plt.title('Potato Prices Over Months')\n",
    "\n",
    "plt.show()"
   ]
  },
  {
   "cell_type": "code",
   "execution_count": 77,
   "id": "f22ae9a2",
   "metadata": {},
   "outputs": [],
   "source": [
    "dates = df['Price Dates']"
   ]
  },
  {
   "cell_type": "code",
   "execution_count": 78,
   "id": "0e1b2700",
   "metadata": {
    "scrolled": true
   },
   "outputs": [
    {
     "data": {
      "image/png": "[encoded data removed]",
      "text/plain": [
       "<Figure size 640x480 with 1 Axes>"
      ]
     },
     "metadata": {},
     "output_type": "display_data"
    }
   ],
   "source": [
    "plt.plot(figsize=(12, 6))\n",
    "plt.plot(dates, Potato_prices)\n",
    "\n",
    "# Show the plotdates = df['Price Dates']\n",
    "plt.show()"
   ]
  },
  {
   "cell_type": "code",
   "execution_count": 80,
   "id": "41055ea9",
   "metadata": {},
   "outputs": [],
   "source": [
    "Months = df['month']\n",
    "Brinjal_prices = df['Brinjal']"
   ]
  },
  {
   "cell_type": "code",
   "execution_count": null,
   "id": "f9d5ae56",
   "metadata": {},
   "outputs": [],
   "source": [
    "plt.figure(figsize=(9, 6))\n",
    "\n",
    "plt.plot(Months, Brinjal_prices, color='green', label='Brinjal')\n",
    "plt.xlabel('Months')\n",
    "plt.ylabel('Brinjal_prices')\n",
    "plt.title('Brinjal Prices Over Months')\n",
    "\n",
    "plt.show()"
   ]
  },
  {
   "cell_type": "code",
   "execution_count": 82,
   "id": "183885f0",
   "metadata": {},
   "outputs": [],
   "source": [
    "dates = df['Price Dates']"
   ]
  },
  {
   "cell_type": "code",
   "execution_count": 83,
   "id": "a5e14c2a",
   "metadata": {},
   "outputs": [
    {
     "data": {
      "image/png": "[encoded data removed]",
      "text/plain": [
       "<Figure size 640x480 with 1 Axes>"
      ]
     },
     "metadata": {},
     "output_type": "display_data"
    }
   ],
   "source": [
    "plt.plot(figsize=(12, 6))\n",
    "plt.plot(dates, Onion_prices)\n",
    "\n",
    "# Show the plotdates = df['Price Dates']\n",
    "plt.show()"
   ]
  },
  {
   "cell_type": "code",
   "execution_count": 84,
   "id": "1437f3fe",
   "metadata": {},
   "outputs": [],
   "source": [
    "Months = df['month']\n",
    "Garlic_prices = df['Garlic']"
   ]
  },
  {
   "cell_type": "code",
   "execution_count": null,
   "id": "bd3f9cea",
   "metadata": {},
   "outputs": [],
   "source": [
    "plt.figure(figsize=(9, 6))\n",
    "\n",
    "plt.plot(Months, Garlic_prices, color='green', label='Garlic')\n",
    "plt.xlabel('Months')\n",
    "plt.ylabel('Garlic_prices')\n",
    "plt.title('Garlic Prices Over Months')\n",
    "\n",
    "plt.show()"
   ]
  },
  {
   "cell_type": "code",
   "execution_count": null,
   "id": "df9ada61",
   "metadata": {},
   "outputs": [],
   "source": [
    "dates = df['Price Dates']"
   ]
  },
  {
   "cell_type": "code",
   "execution_count": 86,
   "id": "f72dc11a",
   "metadata": {
    "scrolled": true
   },
   "outputs": [
    {
     "data": {
      "image/png": "[encoded data removed]",
      "text/plain": [
       "<Figure size 640x480 with 1 Axes>"
      ]
     },
     "metadata": {},
     "output_type": "display_data"
    }
   ],
   "source": [
    "plt.plot(figsize=(12, 6))\n",
    "plt.plot(dates, Garlic_prices)\n",
    "\n",
    "# Show the plotdates = df['Price Dates']\n",
    "plt.show()"
   ]
  },
  {
   "cell_type": "code",
   "execution_count": 87,
   "id": "91e574ce",
   "metadata": {},
   "outputs": [],
   "source": [
    "Months = df['month']\n",
    "Peas_prices = df['Peas']"
   ]
  },
  {
   "cell_type": "code",
   "execution_count": null,
   "id": "832ebc2d",
   "metadata": {},
   "outputs": [],
   "source": [
    "plt.figure(figsize=(9, 6))\n",
    "\n",
    "plt.plot(Months, Peas_prices, color='green', label='Peas')\n",
    "plt.xlabel('Months')\n",
    "plt.ylabel('Peas_prices')\n",
    "plt.title('Peas Prices Over Months')\n",
    "\n",
    "plt.show()"
   ]
  },
  {
   "cell_type": "code",
   "execution_count": 89,
   "id": "5586fe91",
   "metadata": {},
   "outputs": [],
   "source": [
    "dates = df['Price Dates']"
   ]
  },
  {
   "cell_type": "code",
   "execution_count": 90,
   "id": "4066ba15",
   "metadata": {},
   "outputs": [
    {
     "data": {
      "image/png": "[encoded data removed]",
      "text/plain": [
       "<Figure size 640x480 with 1 Axes>"
      ]
     },
     "metadata": {},
     "output_type": "display_data"
    }
   ],
   "source": [
    "plt.plot(figsize=(12, 6))\n",
    "plt.plot(dates, Peas_prices)\n",
    "\n",
    "# Show the plotdates = df['Price Dates']\n",
    "plt.show()"
   ]
  },
  {
   "cell_type": "code",
   "execution_count": 91,
   "id": "c64119c9",
   "metadata": {},
   "outputs": [],
   "source": [
    "Months = df['month']\n",
    "Methi_prices = df['Methi']"
   ]
  },
  {
   "cell_type": "code",
   "execution_count": null,
   "id": "c927ce7d",
   "metadata": {},
   "outputs": [],
   "source": [
    "plt.figure(figsize=(9, 6))\n",
    "\n",
    "plt.plot(Months, Methi_prices, color='green', label='Methi')\n",
    "plt.xlabel('Months')\n",
    "plt.ylabel('Methi_prices')\n",
    "plt.title('Methi Prices Over Months')\n",
    "\n",
    "plt.show()"
   ]
  },
  {
   "cell_type": "code",
   "execution_count": 92,
   "id": "614253b4",
   "metadata": {},
   "outputs": [],
   "source": [
    "dates = df['Price Dates']"
   ]
  },
  {
   "cell_type": "code",
   "execution_count": 93,
   "id": "fe70252e",
   "metadata": {},
   "outputs": [
    {
     "data": {
      "image/png": "[encoded data removed]",
      "text/plain": [
       "<Figure size 640x480 with 1 Axes>"
      ]
     },
     "metadata": {},
     "output_type": "display_data"
    }
   ],
   "source": [
    "plt.plot(figsize=(12, 6))\n",
    "plt.plot(dates, Methi_prices)\n",
    "\n",
    "# Show the plotdates = df['Price Dates']\n",
    "plt.show()"
   ]
  },
  {
   "cell_type": "code",
   "execution_count": 98,
   "id": "b4de5318",
   "metadata": {},
   "outputs": [
    {
     "ename": "KeyError",
     "evalue": "'Green_chilli'",
     "output_type": "error",
     "traceback": [
      "\u001b[1;31m---------------------------------------------------------------------------\u001b[0m",
      "\u001b[1;31mKeyError\u001b[0m                                  Traceback (most recent call last)",
      "File \u001b[1;32m~\\Downloads\\SQL\\Lib\\site-packages\\pandas\\core\\indexes\\base.py:3653\u001b[0m, in \u001b[0;36mIndex.get_loc\u001b[1;34m(self, key)\u001b[0m\n\u001b[0;32m   3652\u001b[0m \u001b[38;5;28;01mtry\u001b[39;00m:\n\u001b[1;32m-> 3653\u001b[0m     \u001b[38;5;28;01mreturn\u001b[39;00m \u001b[38;5;28mself\u001b[39m\u001b[38;5;241m.\u001b[39m_engine\u001b[38;5;241m.\u001b[39mget_loc(casted_key)\n\u001b[0;32m   3654\u001b[0m \u001b[38;5;28;01mexcept\u001b[39;00m \u001b[38;5;167;01mKeyError\u001b[39;00m \u001b[38;5;28;01mas\u001b[39;00m err:\n",
      "File \u001b[1;32m~\\Downloads\\SQL\\Lib\\site-packages\\pandas\\_libs\\index.pyx:147\u001b[0m, in \u001b[0;36mpandas._libs.index.IndexEngine.get_loc\u001b[1;34m()\u001b[0m\n",
      "File \u001b[1;32m~\\Downloads\\SQL\\Lib\\site-packages\\pandas\\_libs\\index.pyx:176\u001b[0m, in \u001b[0;36mpandas._libs.index.IndexEngine.get_loc\u001b[1;34m()\u001b[0m\n",
      "File \u001b[1;32mpandas\\_libs\\hashtable_class_helper.pxi:7080\u001b[0m, in \u001b[0;36mpandas._libs.hashtable.PyObjectHashTable.get_item\u001b[1;34m()\u001b[0m\n",
      "File \u001b[1;32mpandas\\_libs\\hashtable_class_helper.pxi:7088\u001b[0m, in \u001b[0;36mpandas._libs.hashtable.PyObjectHashTable.get_item\u001b[1;34m()\u001b[0m\n",
      "\u001b[1;31mKeyError\u001b[0m: 'Green_chilli'",
      "\nThe above exception was the direct cause of the following exception:\n",
      "\u001b[1;31mKeyError\u001b[0m                                  Traceback (most recent call last)",
      "Cell \u001b[1;32mIn[98], line 2\u001b[0m\n\u001b[0;32m      1\u001b[0m Months \u001b[38;5;241m=\u001b[39m df[\u001b[38;5;124m'\u001b[39m\u001b[38;5;124mmonth\u001b[39m\u001b[38;5;124m'\u001b[39m]\n\u001b[1;32m----> 2\u001b[0m Green_chilli_prices \u001b[38;5;241m=\u001b[39m df[\u001b[38;5;124m'\u001b[39m\u001b[38;5;124mGreen_chilli\u001b[39m\u001b[38;5;124m'\u001b[39m]\n",
      "File \u001b[1;32m~\\Downloads\\SQL\\Lib\\site-packages\\pandas\\core\\frame.py:3761\u001b[0m, in \u001b[0;36mDataFrame.__getitem__\u001b[1;34m(self, key)\u001b[0m\n\u001b[0;32m   3759\u001b[0m \u001b[38;5;28;01mif\u001b[39;00m \u001b[38;5;28mself\u001b[39m\u001b[38;5;241m.\u001b[39mcolumns\u001b[38;5;241m.\u001b[39mnlevels \u001b[38;5;241m>\u001b[39m \u001b[38;5;241m1\u001b[39m:\n\u001b[0;32m   3760\u001b[0m     \u001b[38;5;28;01mreturn\u001b[39;00m \u001b[38;5;28mself\u001b[39m\u001b[38;5;241m.\u001b[39m_getitem_multilevel(key)\n\u001b[1;32m-> 3761\u001b[0m indexer \u001b[38;5;241m=\u001b[39m \u001b[38;5;28mself\u001b[39m\u001b[38;5;241m.\u001b[39mcolumns\u001b[38;5;241m.\u001b[39mget_loc(key)\n\u001b[0;32m   3762\u001b[0m \u001b[38;5;28;01mif\u001b[39;00m is_integer(indexer):\n\u001b[0;32m   3763\u001b[0m     indexer \u001b[38;5;241m=\u001b[39m [indexer]\n",
      "File \u001b[1;32m~\\Downloads\\SQL\\Lib\\site-packages\\pandas\\core\\indexes\\base.py:3655\u001b[0m, in \u001b[0;36mIndex.get_loc\u001b[1;34m(self, key)\u001b[0m\n\u001b[0;32m   3653\u001b[0m     \u001b[38;5;28;01mreturn\u001b[39;00m \u001b[38;5;28mself\u001b[39m\u001b[38;5;241m.\u001b[39m_engine\u001b[38;5;241m.\u001b[39mget_loc(casted_key)\n\u001b[0;32m   3654\u001b[0m \u001b[38;5;28;01mexcept\u001b[39;00m \u001b[38;5;167;01mKeyError\u001b[39;00m \u001b[38;5;28;01mas\u001b[39;00m err:\n\u001b[1;32m-> 3655\u001b[0m     \u001b[38;5;28;01mraise\u001b[39;00m \u001b[38;5;167;01mKeyError\u001b[39;00m(key) \u001b[38;5;28;01mfrom\u001b[39;00m \u001b[38;5;21;01merr\u001b[39;00m\n\u001b[0;32m   3656\u001b[0m \u001b[38;5;28;01mexcept\u001b[39;00m \u001b[38;5;167;01mTypeError\u001b[39;00m:\n\u001b[0;32m   3657\u001b[0m     \u001b[38;5;66;03m# If we have a listlike key, _check_indexing_error will raise\u001b[39;00m\n\u001b[0;32m   3658\u001b[0m     \u001b[38;5;66;03m#  InvalidIndexError. Otherwise we fall through and re-raise\u001b[39;00m\n\u001b[0;32m   3659\u001b[0m     \u001b[38;5;66;03m#  the TypeError.\u001b[39;00m\n\u001b[0;32m   3660\u001b[0m     \u001b[38;5;28mself\u001b[39m\u001b[38;5;241m.\u001b[39m_check_indexing_error(key)\n",
      "\u001b[1;31mKeyError\u001b[0m: 'Green_chilli'"
     ]
    }
   ],
   "source": [
    "Months = df['month']\n",
    "Green_chilli_prices = df['Green_chilli']"
   ]
  },
  {
   "cell_type": "code",
   "execution_count": null,
   "id": "72071c8d",
   "metadata": {},
   "outputs": [],
   "source": [
    "plt.figure(figsize=(9, 6))\n",
    "\n",
    "plt.plot(Months, Green_chilli_prices, color='green', label='Green_chilli')\n",
    "plt.xlabel('Months')\n",
    "plt.ylabel('Green_chilli_prices')\n",
    "plt.title('Green_chilli Prices Over Months')\n",
    "\n",
    "plt.show()"
   ]
  },
  {
   "cell_type": "code",
   "execution_count": null,
   "id": "ddd89088",
   "metadata": {},
   "outputs": [],
   "source": [
    "dates = df['Price Dates']"
   ]
  },
  {
   "cell_type": "code",
   "execution_count": null,
   "id": "1e3cf545",
   "metadata": {},
   "outputs": [],
   "source": [
    "plt.plot(figsize=(12, 6))\n",
    "plt.plot(dates, Green_chilli_prices)\n",
    "\n",
    "# Show the plotdates = df['Price Dates']\n",
    "plt.show()"
   ]
  },
  {
   "cell_type": "code",
   "execution_count": 102,
   "id": "91820b77",
   "metadata": {},
   "outputs": [
    {
     "ename": "SyntaxError",
     "evalue": "invalid syntax (2003103375.py, line 2)",
     "output_type": "error",
     "traceback": [
      "\u001b[1;36m  Cell \u001b[1;32mIn[102], line 2\u001b[1;36m\u001b[0m\n\u001b[1;33m    Elephgant Yam_prices = df['Elephant Yam(Suran)']\u001b[0m\n\u001b[1;37m              ^\u001b[0m\n\u001b[1;31mSyntaxError\u001b[0m\u001b[1;31m:\u001b[0m invalid syntax\n"
     ]
    }
   ],
   "source": [
    "Months = df['month']\n",
    "Elephgant Yam_prices = df['Elephant Yam(Suran)']"
   ]
  },
  {
   "cell_type": "code",
   "execution_count": 103,
   "id": "81c5ca5e",
   "metadata": {},
   "outputs": [
    {
     "ename": "NameError",
     "evalue": "name 'Elepant_Yam_prices' is not defined",
     "output_type": "error",
     "traceback": [
      "\u001b[1;31m---------------------------------------------------------------------------\u001b[0m",
      "\u001b[1;31mNameError\u001b[0m                                 Traceback (most recent call last)",
      "Cell \u001b[1;32mIn[103], line 3\u001b[0m\n\u001b[0;32m      1\u001b[0m plt\u001b[38;5;241m.\u001b[39mfigure(figsize\u001b[38;5;241m=\u001b[39m(\u001b[38;5;241m9\u001b[39m, \u001b[38;5;241m6\u001b[39m))\n\u001b[1;32m----> 3\u001b[0m plt\u001b[38;5;241m.\u001b[39mplot(Months, Elepant_Yam_prices, color\u001b[38;5;241m=\u001b[39m\u001b[38;5;124m'\u001b[39m\u001b[38;5;124mgreen\u001b[39m\u001b[38;5;124m'\u001b[39m, label\u001b[38;5;241m=\u001b[39m\u001b[38;5;124m'\u001b[39m\u001b[38;5;124mElephant_Yam(Suran)\u001b[39m\u001b[38;5;124m'\u001b[39m)\n\u001b[0;32m      4\u001b[0m plt\u001b[38;5;241m.\u001b[39mxlabel(\u001b[38;5;124m'\u001b[39m\u001b[38;5;124mMonths\u001b[39m\u001b[38;5;124m'\u001b[39m)\n\u001b[0;32m      5\u001b[0m plt\u001b[38;5;241m.\u001b[39mylabel(\u001b[38;5;124m'\u001b[39m\u001b[38;5;124mElephant_Yam_prices\u001b[39m\u001b[38;5;124m'\u001b[39m)\n",
      "\u001b[1;31mNameError\u001b[0m: name 'Elepant_Yam_prices' is not defined"
     ]
    },
    {
     "data": {
      "text/plain": [
       "<Figure size 900x600 with 0 Axes>"
      ]
     },
     "metadata": {},
     "output_type": "display_data"
    }
   ],
   "source": [
    "plt.figure(figsize=(9, 6))\n",
    "\n",
    "plt.plot(Months, Elepant_Yam_prices, color='green', label='Elephant_Yam(Suran)')\n",
    "plt.xlabel('Months')\n",
    "plt.ylabel('Elephant_Yam_prices')\n",
    "plt.title('Elephant Yam Prices Over Months')\n",
    "\n",
    "plt.show()"
   ]
  },
  {
   "cell_type": "code",
   "execution_count": 104,
   "id": "149488a1",
   "metadata": {},
   "outputs": [],
   "source": [
    "dates = df['Price Dates']"
   ]
  },
  {
   "cell_type": "code",
   "execution_count": 105,
   "id": "5f317fd5",
   "metadata": {},
   "outputs": [
    {
     "ename": "SyntaxError",
     "evalue": "invalid syntax. Perhaps you forgot a comma? (3765873648.py, line 2)",
     "output_type": "error",
     "traceback": [
      "\u001b[1;36m  Cell \u001b[1;32mIn[105], line 2\u001b[1;36m\u001b[0m\n\u001b[1;33m    plt.plot(dates, Elephant yam_prices)\u001b[0m\n\u001b[1;37m                    ^\u001b[0m\n\u001b[1;31mSyntaxError\u001b[0m\u001b[1;31m:\u001b[0m invalid syntax. Perhaps you forgot a comma?\n"
     ]
    }
   ],
   "source": [
    "plt.plot(figsize=(12, 6))\n",
    "plt.plot(dates, Elephant yam_prices)\n",
    "\n",
    "# Show the plotdates = df['Price Dates']\n",
    "plt.show()"
   ]
  },
  {
   "cell_type": "markdown",
   "id": "9bf2e7ea-3760-4255-8d29-2f7f922aec40",
   "metadata": {},
   "source": [
    "## Conclusion and Insights"
   ]
  }
 ],
 "metadata": {
  "kernelspec": {
   "display_name": "Python 3 (ipykernel)",
   "language": "python",
   "name": "python3"
  },
  "language_info": {
   "codemirror_mode": {
    "name": "ipython",
    "version": 3
   },
   "file_extension": ".py",
   "mimetype": "text/x-python",
   "name": "python",
   "nbconvert_exporter": "python",
   "pygments_lexer": "ipython3",
   "version": "3.11.5"
  }
 },
 "nbformat": 4,
 "nbformat_minor": 5
}
